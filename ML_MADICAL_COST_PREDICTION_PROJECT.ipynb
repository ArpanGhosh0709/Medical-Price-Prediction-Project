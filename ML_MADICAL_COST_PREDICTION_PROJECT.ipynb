{
 "cells": [
  {
   "cell_type": "markdown",
   "id": "b67d2a85",
   "metadata": {},
   "source": [
    "### `Problem Statement` : \n",
    "**The aim here will be to predict the medical costs billed by health insurance on an individual given some features about the individual in the dataset.**"
   ]
  },
  {
   "cell_type": "markdown",
   "id": "7d64e310",
   "metadata": {},
   "source": [
    "### `Objective :`\n",
    "**Develop a machine learning model to predict medical costs billed by health insurance based on individual attributes. The model aims to enhance cost estimation accuracy, providing valuable insights for both individuals and health insurance providers.**"
   ]
  },
  {
   "cell_type": "code",
   "execution_count": 223,
   "id": "cebf2e34",
   "metadata": {},
   "outputs": [],
   "source": [
    "import numpy as np\n",
    "import pandas as pd\n",
    "import seaborn as sns\n",
    "import matplotlib.pyplot as plt\n",
    "import warnings\n",
    "warnings.filterwarnings('ignore')\n"
   ]
  },
  {
   "cell_type": "code",
   "execution_count": 224,
   "id": "fe1a4b01",
   "metadata": {},
   "outputs": [],
   "source": [
    "dataset = pd.read_csv(R\"C:\\Users\\Arpan Ghosh\\OneDrive\\Desktop\\ML\\ml_project\\insurance.csv\")"
   ]
  },
  {
   "cell_type": "code",
   "execution_count": 225,
   "id": "5e6d1181",
   "metadata": {},
   "outputs": [
    {
     "data": {
      "text/html": [
       "<div>\n",
       "<style scoped>\n",
       "    .dataframe tbody tr th:only-of-type {\n",
       "        vertical-align: middle;\n",
       "    }\n",
       "\n",
       "    .dataframe tbody tr th {\n",
       "        vertical-align: top;\n",
       "    }\n",
       "\n",
       "    .dataframe thead th {\n",
       "        text-align: right;\n",
       "    }\n",
       "</style>\n",
       "<table border=\"1\" class=\"dataframe\">\n",
       "  <thead>\n",
       "    <tr style=\"text-align: right;\">\n",
       "      <th></th>\n",
       "      <th>age</th>\n",
       "      <th>sex</th>\n",
       "      <th>bmi</th>\n",
       "      <th>children</th>\n",
       "      <th>smoker</th>\n",
       "      <th>region</th>\n",
       "      <th>charges</th>\n",
       "    </tr>\n",
       "  </thead>\n",
       "  <tbody>\n",
       "    <tr>\n",
       "      <th>0</th>\n",
       "      <td>19</td>\n",
       "      <td>female</td>\n",
       "      <td>27.900</td>\n",
       "      <td>0</td>\n",
       "      <td>yes</td>\n",
       "      <td>southwest</td>\n",
       "      <td>16884.92400</td>\n",
       "    </tr>\n",
       "    <tr>\n",
       "      <th>1</th>\n",
       "      <td>18</td>\n",
       "      <td>male</td>\n",
       "      <td>33.770</td>\n",
       "      <td>1</td>\n",
       "      <td>no</td>\n",
       "      <td>southeast</td>\n",
       "      <td>1725.55230</td>\n",
       "    </tr>\n",
       "    <tr>\n",
       "      <th>2</th>\n",
       "      <td>28</td>\n",
       "      <td>male</td>\n",
       "      <td>33.000</td>\n",
       "      <td>3</td>\n",
       "      <td>no</td>\n",
       "      <td>southeast</td>\n",
       "      <td>4449.46200</td>\n",
       "    </tr>\n",
       "    <tr>\n",
       "      <th>3</th>\n",
       "      <td>33</td>\n",
       "      <td>male</td>\n",
       "      <td>22.705</td>\n",
       "      <td>0</td>\n",
       "      <td>no</td>\n",
       "      <td>northwest</td>\n",
       "      <td>21984.47061</td>\n",
       "    </tr>\n",
       "    <tr>\n",
       "      <th>4</th>\n",
       "      <td>32</td>\n",
       "      <td>male</td>\n",
       "      <td>28.880</td>\n",
       "      <td>0</td>\n",
       "      <td>no</td>\n",
       "      <td>northwest</td>\n",
       "      <td>3866.85520</td>\n",
       "    </tr>\n",
       "    <tr>\n",
       "      <th>...</th>\n",
       "      <td>...</td>\n",
       "      <td>...</td>\n",
       "      <td>...</td>\n",
       "      <td>...</td>\n",
       "      <td>...</td>\n",
       "      <td>...</td>\n",
       "      <td>...</td>\n",
       "    </tr>\n",
       "    <tr>\n",
       "      <th>1333</th>\n",
       "      <td>50</td>\n",
       "      <td>male</td>\n",
       "      <td>30.970</td>\n",
       "      <td>3</td>\n",
       "      <td>no</td>\n",
       "      <td>northwest</td>\n",
       "      <td>10600.54830</td>\n",
       "    </tr>\n",
       "    <tr>\n",
       "      <th>1334</th>\n",
       "      <td>18</td>\n",
       "      <td>female</td>\n",
       "      <td>31.920</td>\n",
       "      <td>0</td>\n",
       "      <td>no</td>\n",
       "      <td>northeast</td>\n",
       "      <td>2205.98080</td>\n",
       "    </tr>\n",
       "    <tr>\n",
       "      <th>1335</th>\n",
       "      <td>18</td>\n",
       "      <td>female</td>\n",
       "      <td>36.850</td>\n",
       "      <td>0</td>\n",
       "      <td>no</td>\n",
       "      <td>southeast</td>\n",
       "      <td>1629.83350</td>\n",
       "    </tr>\n",
       "    <tr>\n",
       "      <th>1336</th>\n",
       "      <td>21</td>\n",
       "      <td>female</td>\n",
       "      <td>25.800</td>\n",
       "      <td>0</td>\n",
       "      <td>no</td>\n",
       "      <td>southwest</td>\n",
       "      <td>2007.94500</td>\n",
       "    </tr>\n",
       "    <tr>\n",
       "      <th>1337</th>\n",
       "      <td>61</td>\n",
       "      <td>female</td>\n",
       "      <td>29.070</td>\n",
       "      <td>0</td>\n",
       "      <td>yes</td>\n",
       "      <td>northwest</td>\n",
       "      <td>29141.36030</td>\n",
       "    </tr>\n",
       "  </tbody>\n",
       "</table>\n",
       "<p>1338 rows × 7 columns</p>\n",
       "</div>"
      ],
      "text/plain": [
       "      age     sex     bmi  children smoker     region      charges\n",
       "0      19  female  27.900         0    yes  southwest  16884.92400\n",
       "1      18    male  33.770         1     no  southeast   1725.55230\n",
       "2      28    male  33.000         3     no  southeast   4449.46200\n",
       "3      33    male  22.705         0     no  northwest  21984.47061\n",
       "4      32    male  28.880         0     no  northwest   3866.85520\n",
       "...   ...     ...     ...       ...    ...        ...          ...\n",
       "1333   50    male  30.970         3     no  northwest  10600.54830\n",
       "1334   18  female  31.920         0     no  northeast   2205.98080\n",
       "1335   18  female  36.850         0     no  southeast   1629.83350\n",
       "1336   21  female  25.800         0     no  southwest   2007.94500\n",
       "1337   61  female  29.070         0    yes  northwest  29141.36030\n",
       "\n",
       "[1338 rows x 7 columns]"
      ]
     },
     "execution_count": 225,
     "metadata": {},
     "output_type": "execute_result"
    }
   ],
   "source": [
    "dataset"
   ]
  },
  {
   "cell_type": "code",
   "execution_count": 226,
   "id": "5766dbd2",
   "metadata": {},
   "outputs": [
    {
     "data": {
      "text/plain": [
       "(1338, 7)"
      ]
     },
     "execution_count": 226,
     "metadata": {},
     "output_type": "execute_result"
    }
   ],
   "source": [
    "dataset.shape"
   ]
  },
  {
   "cell_type": "code",
   "execution_count": 227,
   "id": "01aa9982",
   "metadata": {},
   "outputs": [
    {
     "name": "stdout",
     "output_type": "stream",
     "text": [
      "<class 'pandas.core.frame.DataFrame'>\n",
      "RangeIndex: 1338 entries, 0 to 1337\n",
      "Data columns (total 7 columns):\n",
      " #   Column    Non-Null Count  Dtype  \n",
      "---  ------    --------------  -----  \n",
      " 0   age       1338 non-null   int64  \n",
      " 1   sex       1338 non-null   object \n",
      " 2   bmi       1338 non-null   float64\n",
      " 3   children  1338 non-null   int64  \n",
      " 4   smoker    1338 non-null   object \n",
      " 5   region    1338 non-null   object \n",
      " 6   charges   1338 non-null   float64\n",
      "dtypes: float64(2), int64(2), object(3)\n",
      "memory usage: 73.3+ KB\n"
     ]
    }
   ],
   "source": [
    "dataset.info()"
   ]
  },
  {
   "cell_type": "code",
   "execution_count": 228,
   "id": "99c5e69b",
   "metadata": {},
   "outputs": [
    {
     "data": {
      "text/html": [
       "<div>\n",
       "<style scoped>\n",
       "    .dataframe tbody tr th:only-of-type {\n",
       "        vertical-align: middle;\n",
       "    }\n",
       "\n",
       "    .dataframe tbody tr th {\n",
       "        vertical-align: top;\n",
       "    }\n",
       "\n",
       "    .dataframe thead th {\n",
       "        text-align: right;\n",
       "    }\n",
       "</style>\n",
       "<table border=\"1\" class=\"dataframe\">\n",
       "  <thead>\n",
       "    <tr style=\"text-align: right;\">\n",
       "      <th></th>\n",
       "      <th>age</th>\n",
       "      <th>bmi</th>\n",
       "      <th>children</th>\n",
       "      <th>charges</th>\n",
       "    </tr>\n",
       "  </thead>\n",
       "  <tbody>\n",
       "    <tr>\n",
       "      <th>count</th>\n",
       "      <td>1338.000000</td>\n",
       "      <td>1338.000000</td>\n",
       "      <td>1338.000000</td>\n",
       "      <td>1338.000000</td>\n",
       "    </tr>\n",
       "    <tr>\n",
       "      <th>mean</th>\n",
       "      <td>39.207025</td>\n",
       "      <td>30.663397</td>\n",
       "      <td>1.094918</td>\n",
       "      <td>13270.422265</td>\n",
       "    </tr>\n",
       "    <tr>\n",
       "      <th>std</th>\n",
       "      <td>14.049960</td>\n",
       "      <td>6.098187</td>\n",
       "      <td>1.205493</td>\n",
       "      <td>12110.011237</td>\n",
       "    </tr>\n",
       "    <tr>\n",
       "      <th>min</th>\n",
       "      <td>18.000000</td>\n",
       "      <td>15.960000</td>\n",
       "      <td>0.000000</td>\n",
       "      <td>1121.873900</td>\n",
       "    </tr>\n",
       "    <tr>\n",
       "      <th>25%</th>\n",
       "      <td>27.000000</td>\n",
       "      <td>26.296250</td>\n",
       "      <td>0.000000</td>\n",
       "      <td>4740.287150</td>\n",
       "    </tr>\n",
       "    <tr>\n",
       "      <th>50%</th>\n",
       "      <td>39.000000</td>\n",
       "      <td>30.400000</td>\n",
       "      <td>1.000000</td>\n",
       "      <td>9382.033000</td>\n",
       "    </tr>\n",
       "    <tr>\n",
       "      <th>75%</th>\n",
       "      <td>51.000000</td>\n",
       "      <td>34.693750</td>\n",
       "      <td>2.000000</td>\n",
       "      <td>16639.912515</td>\n",
       "    </tr>\n",
       "    <tr>\n",
       "      <th>max</th>\n",
       "      <td>64.000000</td>\n",
       "      <td>53.130000</td>\n",
       "      <td>5.000000</td>\n",
       "      <td>63770.428010</td>\n",
       "    </tr>\n",
       "  </tbody>\n",
       "</table>\n",
       "</div>"
      ],
      "text/plain": [
       "               age          bmi     children       charges\n",
       "count  1338.000000  1338.000000  1338.000000   1338.000000\n",
       "mean     39.207025    30.663397     1.094918  13270.422265\n",
       "std      14.049960     6.098187     1.205493  12110.011237\n",
       "min      18.000000    15.960000     0.000000   1121.873900\n",
       "25%      27.000000    26.296250     0.000000   4740.287150\n",
       "50%      39.000000    30.400000     1.000000   9382.033000\n",
       "75%      51.000000    34.693750     2.000000  16639.912515\n",
       "max      64.000000    53.130000     5.000000  63770.428010"
      ]
     },
     "execution_count": 228,
     "metadata": {},
     "output_type": "execute_result"
    }
   ],
   "source": [
    "dataset.describe()"
   ]
  },
  {
   "cell_type": "code",
   "execution_count": 229,
   "id": "a949be7e",
   "metadata": {},
   "outputs": [
    {
     "data": {
      "text/plain": [
       "Index(['age', 'sex', 'bmi', 'children', 'smoker', 'region', 'charges'], dtype='object')"
      ]
     },
     "execution_count": 229,
     "metadata": {},
     "output_type": "execute_result"
    }
   ],
   "source": [
    "dataset.columns"
   ]
  },
  {
   "cell_type": "code",
   "execution_count": 230,
   "id": "eecd3a34",
   "metadata": {},
   "outputs": [
    {
     "data": {
      "text/plain": [
       "Index(['age', 'sex', 'bmi', 'children', 'smoker', 'region', 'charges'], dtype='object')"
      ]
     },
     "execution_count": 230,
     "metadata": {},
     "output_type": "execute_result"
    }
   ],
   "source": [
    "dataset.columns.str.strip()"
   ]
  },
  {
   "cell_type": "code",
   "execution_count": 231,
   "id": "9384a323",
   "metadata": {},
   "outputs": [
    {
     "data": {
      "text/html": [
       "<div>\n",
       "<style scoped>\n",
       "    .dataframe tbody tr th:only-of-type {\n",
       "        vertical-align: middle;\n",
       "    }\n",
       "\n",
       "    .dataframe tbody tr th {\n",
       "        vertical-align: top;\n",
       "    }\n",
       "\n",
       "    .dataframe thead th {\n",
       "        text-align: right;\n",
       "    }\n",
       "</style>\n",
       "<table border=\"1\" class=\"dataframe\">\n",
       "  <thead>\n",
       "    <tr style=\"text-align: right;\">\n",
       "      <th></th>\n",
       "      <th>sex</th>\n",
       "      <th>smoker</th>\n",
       "      <th>region</th>\n",
       "    </tr>\n",
       "  </thead>\n",
       "  <tbody>\n",
       "    <tr>\n",
       "      <th>0</th>\n",
       "      <td>female</td>\n",
       "      <td>yes</td>\n",
       "      <td>southwest</td>\n",
       "    </tr>\n",
       "    <tr>\n",
       "      <th>1</th>\n",
       "      <td>male</td>\n",
       "      <td>no</td>\n",
       "      <td>southeast</td>\n",
       "    </tr>\n",
       "    <tr>\n",
       "      <th>2</th>\n",
       "      <td>male</td>\n",
       "      <td>no</td>\n",
       "      <td>southeast</td>\n",
       "    </tr>\n",
       "    <tr>\n",
       "      <th>3</th>\n",
       "      <td>male</td>\n",
       "      <td>no</td>\n",
       "      <td>northwest</td>\n",
       "    </tr>\n",
       "    <tr>\n",
       "      <th>4</th>\n",
       "      <td>male</td>\n",
       "      <td>no</td>\n",
       "      <td>northwest</td>\n",
       "    </tr>\n",
       "    <tr>\n",
       "      <th>...</th>\n",
       "      <td>...</td>\n",
       "      <td>...</td>\n",
       "      <td>...</td>\n",
       "    </tr>\n",
       "    <tr>\n",
       "      <th>1333</th>\n",
       "      <td>male</td>\n",
       "      <td>no</td>\n",
       "      <td>northwest</td>\n",
       "    </tr>\n",
       "    <tr>\n",
       "      <th>1334</th>\n",
       "      <td>female</td>\n",
       "      <td>no</td>\n",
       "      <td>northeast</td>\n",
       "    </tr>\n",
       "    <tr>\n",
       "      <th>1335</th>\n",
       "      <td>female</td>\n",
       "      <td>no</td>\n",
       "      <td>southeast</td>\n",
       "    </tr>\n",
       "    <tr>\n",
       "      <th>1336</th>\n",
       "      <td>female</td>\n",
       "      <td>no</td>\n",
       "      <td>southwest</td>\n",
       "    </tr>\n",
       "    <tr>\n",
       "      <th>1337</th>\n",
       "      <td>female</td>\n",
       "      <td>yes</td>\n",
       "      <td>northwest</td>\n",
       "    </tr>\n",
       "  </tbody>\n",
       "</table>\n",
       "<p>1338 rows × 3 columns</p>\n",
       "</div>"
      ],
      "text/plain": [
       "         sex smoker     region\n",
       "0     female    yes  southwest\n",
       "1       male     no  southeast\n",
       "2       male     no  southeast\n",
       "3       male     no  northwest\n",
       "4       male     no  northwest\n",
       "...      ...    ...        ...\n",
       "1333    male     no  northwest\n",
       "1334  female     no  northeast\n",
       "1335  female     no  southeast\n",
       "1336  female     no  southwest\n",
       "1337  female    yes  northwest\n",
       "\n",
       "[1338 rows x 3 columns]"
      ]
     },
     "execution_count": 231,
     "metadata": {},
     "output_type": "execute_result"
    }
   ],
   "source": [
    "object_col = dataset.select_dtypes(include = \"object\")\n",
    "object_col"
   ]
  },
  {
   "cell_type": "code",
   "execution_count": 232,
   "id": "7756963d",
   "metadata": {},
   "outputs": [
    {
     "data": {
      "text/html": [
       "<div>\n",
       "<style scoped>\n",
       "    .dataframe tbody tr th:only-of-type {\n",
       "        vertical-align: middle;\n",
       "    }\n",
       "\n",
       "    .dataframe tbody tr th {\n",
       "        vertical-align: top;\n",
       "    }\n",
       "\n",
       "    .dataframe thead th {\n",
       "        text-align: right;\n",
       "    }\n",
       "</style>\n",
       "<table border=\"1\" class=\"dataframe\">\n",
       "  <thead>\n",
       "    <tr style=\"text-align: right;\">\n",
       "      <th></th>\n",
       "      <th>age</th>\n",
       "      <th>bmi</th>\n",
       "      <th>children</th>\n",
       "      <th>charges</th>\n",
       "    </tr>\n",
       "  </thead>\n",
       "  <tbody>\n",
       "    <tr>\n",
       "      <th>0</th>\n",
       "      <td>19</td>\n",
       "      <td>27.900</td>\n",
       "      <td>0</td>\n",
       "      <td>16884.92400</td>\n",
       "    </tr>\n",
       "    <tr>\n",
       "      <th>1</th>\n",
       "      <td>18</td>\n",
       "      <td>33.770</td>\n",
       "      <td>1</td>\n",
       "      <td>1725.55230</td>\n",
       "    </tr>\n",
       "    <tr>\n",
       "      <th>2</th>\n",
       "      <td>28</td>\n",
       "      <td>33.000</td>\n",
       "      <td>3</td>\n",
       "      <td>4449.46200</td>\n",
       "    </tr>\n",
       "    <tr>\n",
       "      <th>3</th>\n",
       "      <td>33</td>\n",
       "      <td>22.705</td>\n",
       "      <td>0</td>\n",
       "      <td>21984.47061</td>\n",
       "    </tr>\n",
       "    <tr>\n",
       "      <th>4</th>\n",
       "      <td>32</td>\n",
       "      <td>28.880</td>\n",
       "      <td>0</td>\n",
       "      <td>3866.85520</td>\n",
       "    </tr>\n",
       "  </tbody>\n",
       "</table>\n",
       "</div>"
      ],
      "text/plain": [
       "   age     bmi  children      charges\n",
       "0   19  27.900         0  16884.92400\n",
       "1   18  33.770         1   1725.55230\n",
       "2   28  33.000         3   4449.46200\n",
       "3   33  22.705         0  21984.47061\n",
       "4   32  28.880         0   3866.85520"
      ]
     },
     "execution_count": 232,
     "metadata": {},
     "output_type": "execute_result"
    }
   ],
   "source": [
    "numeric_col = dataset[dataset.select_dtypes(include = [\"int\",\"float\"]).columns]\n",
    "numeric_col.head()"
   ]
  },
  {
   "cell_type": "code",
   "execution_count": 233,
   "id": "73cfc1a2",
   "metadata": {},
   "outputs": [],
   "source": [
    "def obj__univariate_analysis(data):\n",
    "    for col_name in data:\n",
    "        print(\"*\"*10, col_name,\"*\"*10)\n",
    "        print(data[col_name].agg([\"count\",\"nunique\",\"unique\"]))\n",
    "        print(\"value_counts: \\n\",data[col_name].value_counts())"
   ]
  },
  {
   "cell_type": "code",
   "execution_count": 234,
   "id": "bab081c9",
   "metadata": {},
   "outputs": [
    {
     "name": "stdout",
     "output_type": "stream",
     "text": [
      "********** sex **********\n",
      "count                1338\n",
      "nunique                 2\n",
      "unique     [female, male]\n",
      "Name: sex, dtype: object\n",
      "value_counts: \n",
      " male      676\n",
      "female    662\n",
      "Name: sex, dtype: int64\n",
      "********** smoker **********\n",
      "count           1338\n",
      "nunique            2\n",
      "unique     [yes, no]\n",
      "Name: smoker, dtype: object\n",
      "value_counts: \n",
      " no     1064\n",
      "yes     274\n",
      "Name: smoker, dtype: int64\n",
      "********** region **********\n",
      "count                                              1338\n",
      "nunique                                               4\n",
      "unique     [southwest, southeast, northwest, northeast]\n",
      "Name: region, dtype: object\n",
      "value_counts: \n",
      " southeast    364\n",
      "southwest    325\n",
      "northwest    325\n",
      "northeast    324\n",
      "Name: region, dtype: int64\n"
     ]
    }
   ],
   "source": [
    "obj__univariate_analysis(object_col)"
   ]
  },
  {
   "cell_type": "code",
   "execution_count": 235,
   "id": "ad5fd893",
   "metadata": {},
   "outputs": [],
   "source": [
    "def num_univariate_analysis(data):\n",
    "    for col_name in data:\n",
    "        print(\"*\"*10, col_name, \"*\"*10)\n",
    "        print(data[col_name].agg([\"mean\",\"max\",\"min\",\"std\"]))\n",
    "        print()"
   ]
  },
  {
   "cell_type": "code",
   "execution_count": 236,
   "id": "b2db2a8b",
   "metadata": {},
   "outputs": [
    {
     "name": "stdout",
     "output_type": "stream",
     "text": [
      "********** age **********\n",
      "mean    39.207025\n",
      "max     64.000000\n",
      "min     18.000000\n",
      "std     14.049960\n",
      "Name: age, dtype: float64\n",
      "\n",
      "********** bmi **********\n",
      "mean    30.663397\n",
      "max     53.130000\n",
      "min     15.960000\n",
      "std      6.098187\n",
      "Name: bmi, dtype: float64\n",
      "\n",
      "********** children **********\n",
      "mean    1.094918\n",
      "max     5.000000\n",
      "min     0.000000\n",
      "std     1.205493\n",
      "Name: children, dtype: float64\n",
      "\n",
      "********** charges **********\n",
      "mean    13270.422265\n",
      "max     63770.428010\n",
      "min      1121.873900\n",
      "std     12110.011237\n",
      "Name: charges, dtype: float64\n",
      "\n"
     ]
    }
   ],
   "source": [
    "num_univariate_analysis(numeric_col)"
   ]
  },
  {
   "cell_type": "markdown",
   "id": "41d5daa3",
   "metadata": {},
   "source": [
    "### Conclusion : `This is Supervised learning - Regression Task since target variable is continuous`"
   ]
  },
  {
   "cell_type": "markdown",
   "id": "19639071",
   "metadata": {},
   "source": [
    "## `Handling Missing values`"
   ]
  },
  {
   "cell_type": "code",
   "execution_count": 237,
   "id": "04c5577f",
   "metadata": {},
   "outputs": [
    {
     "data": {
      "text/plain": [
       "age         False\n",
       "sex         False\n",
       "bmi         False\n",
       "children    False\n",
       "smoker      False\n",
       "region      False\n",
       "charges     False\n",
       "dtype: bool"
      ]
     },
     "execution_count": 237,
     "metadata": {},
     "output_type": "execute_result"
    }
   ],
   "source": [
    "dataset.isnull().any()"
   ]
  },
  {
   "cell_type": "code",
   "execution_count": 238,
   "id": "8b9e0d2d",
   "metadata": {},
   "outputs": [
    {
     "data": {
      "text/plain": [
       "age         0\n",
       "sex         0\n",
       "bmi         0\n",
       "children    0\n",
       "smoker      0\n",
       "region      0\n",
       "charges     0\n",
       "dtype: int64"
      ]
     },
     "execution_count": 238,
     "metadata": {},
     "output_type": "execute_result"
    }
   ],
   "source": [
    "dataset.isnull().sum()"
   ]
  },
  {
   "cell_type": "markdown",
   "id": "eb29c1b7",
   "metadata": {},
   "source": [
    "#### Observations : `In this case we  have not any missing values`"
   ]
  },
  {
   "cell_type": "markdown",
   "id": "6d9c4985",
   "metadata": {},
   "source": [
    "## `Handling Duplicate values`"
   ]
  },
  {
   "cell_type": "code",
   "execution_count": 239,
   "id": "2ac1df90",
   "metadata": {},
   "outputs": [
    {
     "data": {
      "text/plain": [
       "1"
      ]
     },
     "execution_count": 239,
     "metadata": {},
     "output_type": "execute_result"
    }
   ],
   "source": [
    "dataset.duplicated().sum()"
   ]
  },
  {
   "cell_type": "code",
   "execution_count": 240,
   "id": "bfcb0588",
   "metadata": {},
   "outputs": [
    {
     "data": {
      "text/html": [
       "<div>\n",
       "<style scoped>\n",
       "    .dataframe tbody tr th:only-of-type {\n",
       "        vertical-align: middle;\n",
       "    }\n",
       "\n",
       "    .dataframe tbody tr th {\n",
       "        vertical-align: top;\n",
       "    }\n",
       "\n",
       "    .dataframe thead th {\n",
       "        text-align: right;\n",
       "    }\n",
       "</style>\n",
       "<table border=\"1\" class=\"dataframe\">\n",
       "  <thead>\n",
       "    <tr style=\"text-align: right;\">\n",
       "      <th></th>\n",
       "      <th>age</th>\n",
       "      <th>sex</th>\n",
       "      <th>bmi</th>\n",
       "      <th>children</th>\n",
       "      <th>smoker</th>\n",
       "      <th>region</th>\n",
       "      <th>charges</th>\n",
       "    </tr>\n",
       "  </thead>\n",
       "  <tbody>\n",
       "    <tr>\n",
       "      <th>581</th>\n",
       "      <td>19</td>\n",
       "      <td>male</td>\n",
       "      <td>30.59</td>\n",
       "      <td>0</td>\n",
       "      <td>no</td>\n",
       "      <td>northwest</td>\n",
       "      <td>1639.5631</td>\n",
       "    </tr>\n",
       "  </tbody>\n",
       "</table>\n",
       "</div>"
      ],
      "text/plain": [
       "     age   sex    bmi  children smoker     region    charges\n",
       "581   19  male  30.59         0     no  northwest  1639.5631"
      ]
     },
     "execution_count": 240,
     "metadata": {},
     "output_type": "execute_result"
    }
   ],
   "source": [
    "dataset[dataset.duplicated()]"
   ]
  },
  {
   "cell_type": "code",
   "execution_count": 241,
   "id": "46c41c72",
   "metadata": {},
   "outputs": [
    {
     "name": "stdout",
     "output_type": "stream",
     "text": [
      "     age   sex    bmi  children smoker     region    charges\n",
      "195   19  male  30.59         0     no  northwest  1639.5631\n",
      "581   19  male  30.59         0     no  northwest  1639.5631\n"
     ]
    }
   ],
   "source": [
    "duplicates = dataset[dataset.duplicated(keep=False)]\n",
    "\n",
    "print(duplicates)"
   ]
  },
  {
   "cell_type": "code",
   "execution_count": 242,
   "id": "7467de85",
   "metadata": {},
   "outputs": [],
   "source": [
    "dataset = dataset.drop_duplicates()"
   ]
  },
  {
   "cell_type": "code",
   "execution_count": 243,
   "id": "eb8a5c54",
   "metadata": {},
   "outputs": [
    {
     "data": {
      "text/plain": [
       "(1337, 7)"
      ]
     },
     "execution_count": 243,
     "metadata": {},
     "output_type": "execute_result"
    }
   ],
   "source": [
    "dataset.shape"
   ]
  },
  {
   "cell_type": "markdown",
   "id": "a929efc1",
   "metadata": {},
   "source": [
    "#### Observations : `In this case we can see in datast have 1 duplicate value, so we can drop the duplicate value.`"
   ]
  },
  {
   "cell_type": "markdown",
   "id": "40263c8c",
   "metadata": {},
   "source": [
    "## `Handling Outliers`"
   ]
  },
  {
   "cell_type": "code",
   "execution_count": 244,
   "id": "69241f97",
   "metadata": {},
   "outputs": [
    {
     "data": {
      "text/plain": [
       "<Axes: >"
      ]
     },
     "execution_count": 244,
     "metadata": {},
     "output_type": "execute_result"
    },
    {
     "data": {
      "image/png": "[encoded data removed]",
      "text/plain": [
       "<Figure size 640x480 with 1 Axes>"
      ]
     },
     "metadata": {},
     "output_type": "display_data"
    }
   ],
   "source": [
    "sns.boxplot(dataset)"
   ]
  },
  {
   "cell_type": "code",
   "execution_count": 245,
   "id": "f47c556f",
   "metadata": {},
   "outputs": [
    {
     "data": {
      "image/png": "[encoded data removed]",
      "text/plain": [
       "<Figure size 1000x500 with 1 Axes>"
      ]
     },
     "metadata": {},
     "output_type": "display_data"
    },
    {
     "data": {
      "image/png": "[encoded data removed]",
      "text/plain": [
       "<Figure size 1000x500 with 1 Axes>"
      ]
     },
     "metadata": {},
     "output_type": "display_data"
    },
    {
     "data": {
      "image/png": "[encoded data removed]",
      "text/plain": [
       "<Figure size 1000x500 with 1 Axes>"
      ]
     },
     "metadata": {},
     "output_type": "display_data"
    },
    {
     "data": {
      "image/png": "[encoded data removed]",
      "text/plain": [
       "<Figure size 1000x500 with 1 Axes>"
      ]
     },
     "metadata": {},
     "output_type": "display_data"
    }
   ],
   "source": [
    "for col in numeric_col:\n",
    "    plt.figure(figsize=(10, 5))\n",
    "    sns.boxplot(x=dataset[col])\n",
    "    plt.title(f'Boxplot of {col}')\n",
    "    plt.show()"
   ]
  },
  {
   "cell_type": "markdown",
   "id": "c75284be",
   "metadata": {},
   "source": [
    "#### Observations : `Here We can see outliers in \"bmi\" column and \"Charges\" columns`"
   ]
  },
  {
   "cell_type": "markdown",
   "id": "40b489d5",
   "metadata": {},
   "source": [
    "### `Finding outliers on bmi`"
   ]
  },
  {
   "cell_type": "code",
   "execution_count": 246,
   "id": "74f17226",
   "metadata": {},
   "outputs": [
    {
     "data": {
      "text/plain": [
       "count    1337.000000\n",
       "mean       30.663452\n",
       "std         6.100468\n",
       "min        15.960000\n",
       "25%        26.290000\n",
       "50%        30.400000\n",
       "75%        34.700000\n",
       "max        53.130000\n",
       "Name: bmi, dtype: float64"
      ]
     },
     "execution_count": 246,
     "metadata": {},
     "output_type": "execute_result"
    }
   ],
   "source": [
    "dataset[\"bmi\"].describe()"
   ]
  },
  {
   "cell_type": "code",
   "execution_count": 247,
   "id": "05e5f8ff",
   "metadata": {},
   "outputs": [
    {
     "name": "stdout",
     "output_type": "stream",
     "text": [
      "Q_1 =  26.29 Q_3 =  34.7\n"
     ]
    }
   ],
   "source": [
    "Q_1 = dataset[\"bmi\"].quantile(0.25)\n",
    "Q_3 = dataset[\"bmi\"].quantile(0.75)\n",
    "print(\"Q_1 = \",Q_1, \"Q_3 = \",Q_3)"
   ]
  },
  {
   "cell_type": "code",
   "execution_count": 248,
   "id": "a66a09bd",
   "metadata": {},
   "outputs": [
    {
     "name": "stdout",
     "output_type": "stream",
     "text": [
      "IQR =  8.410000000000004\n"
     ]
    }
   ],
   "source": [
    "IQR = Q_3 -Q_1\n",
    "print(\"IQR = \",IQR)"
   ]
  },
  {
   "cell_type": "code",
   "execution_count": 249,
   "id": "651e3bd4",
   "metadata": {},
   "outputs": [
    {
     "name": "stdout",
     "output_type": "stream",
     "text": [
      "lower_boundary =  13.674999999999994\n",
      "upper_boundary =  47.31500000000001\n"
     ]
    }
   ],
   "source": [
    "lower_boundary = Q_1 - (IQR * 1.5)\n",
    "upper_boundary = Q_3 + (IQR * 1.5)\n",
    "print(\"lower_boundary = \", lower_boundary)\n",
    "print(\"upper_boundary = \", upper_boundary)"
   ]
  },
  {
   "cell_type": "code",
   "execution_count": 250,
   "id": "501a46e1",
   "metadata": {},
   "outputs": [
    {
     "data": {
      "text/html": [
       "<div>\n",
       "<style scoped>\n",
       "    .dataframe tbody tr th:only-of-type {\n",
       "        vertical-align: middle;\n",
       "    }\n",
       "\n",
       "    .dataframe tbody tr th {\n",
       "        vertical-align: top;\n",
       "    }\n",
       "\n",
       "    .dataframe thead th {\n",
       "        text-align: right;\n",
       "    }\n",
       "</style>\n",
       "<table border=\"1\" class=\"dataframe\">\n",
       "  <thead>\n",
       "    <tr style=\"text-align: right;\">\n",
       "      <th></th>\n",
       "      <th>age</th>\n",
       "      <th>sex</th>\n",
       "      <th>bmi</th>\n",
       "      <th>children</th>\n",
       "      <th>smoker</th>\n",
       "      <th>region</th>\n",
       "      <th>charges</th>\n",
       "    </tr>\n",
       "  </thead>\n",
       "  <tbody>\n",
       "  </tbody>\n",
       "</table>\n",
       "</div>"
      ],
      "text/plain": [
       "Empty DataFrame\n",
       "Columns: [age, sex, bmi, children, smoker, region, charges]\n",
       "Index: []"
      ]
     },
     "execution_count": 250,
     "metadata": {},
     "output_type": "execute_result"
    }
   ],
   "source": [
    "# Findding outliers in lower boundary\n",
    "\n",
    "lower_outliers = dataset[dataset[\"bmi\"]<lower_boundary ]\n",
    "lower_outliers"
   ]
  },
  {
   "cell_type": "code",
   "execution_count": 251,
   "id": "b1b227e0",
   "metadata": {},
   "outputs": [
    {
     "data": {
      "text/html": [
       "<div>\n",
       "<style scoped>\n",
       "    .dataframe tbody tr th:only-of-type {\n",
       "        vertical-align: middle;\n",
       "    }\n",
       "\n",
       "    .dataframe tbody tr th {\n",
       "        vertical-align: top;\n",
       "    }\n",
       "\n",
       "    .dataframe thead th {\n",
       "        text-align: right;\n",
       "    }\n",
       "</style>\n",
       "<table border=\"1\" class=\"dataframe\">\n",
       "  <thead>\n",
       "    <tr style=\"text-align: right;\">\n",
       "      <th></th>\n",
       "      <th>age</th>\n",
       "      <th>sex</th>\n",
       "      <th>bmi</th>\n",
       "      <th>children</th>\n",
       "      <th>smoker</th>\n",
       "      <th>region</th>\n",
       "      <th>charges</th>\n",
       "    </tr>\n",
       "  </thead>\n",
       "  <tbody>\n",
       "    <tr>\n",
       "      <th>116</th>\n",
       "      <td>58</td>\n",
       "      <td>male</td>\n",
       "      <td>49.06</td>\n",
       "      <td>0</td>\n",
       "      <td>no</td>\n",
       "      <td>southeast</td>\n",
       "      <td>11381.32540</td>\n",
       "    </tr>\n",
       "    <tr>\n",
       "      <th>286</th>\n",
       "      <td>46</td>\n",
       "      <td>female</td>\n",
       "      <td>48.07</td>\n",
       "      <td>2</td>\n",
       "      <td>no</td>\n",
       "      <td>northeast</td>\n",
       "      <td>9432.92530</td>\n",
       "    </tr>\n",
       "    <tr>\n",
       "      <th>401</th>\n",
       "      <td>47</td>\n",
       "      <td>male</td>\n",
       "      <td>47.52</td>\n",
       "      <td>1</td>\n",
       "      <td>no</td>\n",
       "      <td>southeast</td>\n",
       "      <td>8083.91980</td>\n",
       "    </tr>\n",
       "    <tr>\n",
       "      <th>543</th>\n",
       "      <td>54</td>\n",
       "      <td>female</td>\n",
       "      <td>47.41</td>\n",
       "      <td>0</td>\n",
       "      <td>yes</td>\n",
       "      <td>southeast</td>\n",
       "      <td>63770.42801</td>\n",
       "    </tr>\n",
       "    <tr>\n",
       "      <th>847</th>\n",
       "      <td>23</td>\n",
       "      <td>male</td>\n",
       "      <td>50.38</td>\n",
       "      <td>1</td>\n",
       "      <td>no</td>\n",
       "      <td>southeast</td>\n",
       "      <td>2438.05520</td>\n",
       "    </tr>\n",
       "    <tr>\n",
       "      <th>860</th>\n",
       "      <td>37</td>\n",
       "      <td>female</td>\n",
       "      <td>47.60</td>\n",
       "      <td>2</td>\n",
       "      <td>yes</td>\n",
       "      <td>southwest</td>\n",
       "      <td>46113.51100</td>\n",
       "    </tr>\n",
       "    <tr>\n",
       "      <th>1047</th>\n",
       "      <td>22</td>\n",
       "      <td>male</td>\n",
       "      <td>52.58</td>\n",
       "      <td>1</td>\n",
       "      <td>yes</td>\n",
       "      <td>southeast</td>\n",
       "      <td>44501.39820</td>\n",
       "    </tr>\n",
       "    <tr>\n",
       "      <th>1088</th>\n",
       "      <td>52</td>\n",
       "      <td>male</td>\n",
       "      <td>47.74</td>\n",
       "      <td>1</td>\n",
       "      <td>no</td>\n",
       "      <td>southeast</td>\n",
       "      <td>9748.91060</td>\n",
       "    </tr>\n",
       "    <tr>\n",
       "      <th>1317</th>\n",
       "      <td>18</td>\n",
       "      <td>male</td>\n",
       "      <td>53.13</td>\n",
       "      <td>0</td>\n",
       "      <td>no</td>\n",
       "      <td>southeast</td>\n",
       "      <td>1163.46270</td>\n",
       "    </tr>\n",
       "  </tbody>\n",
       "</table>\n",
       "</div>"
      ],
      "text/plain": [
       "      age     sex    bmi  children smoker     region      charges\n",
       "116    58    male  49.06         0     no  southeast  11381.32540\n",
       "286    46  female  48.07         2     no  northeast   9432.92530\n",
       "401    47    male  47.52         1     no  southeast   8083.91980\n",
       "543    54  female  47.41         0    yes  southeast  63770.42801\n",
       "847    23    male  50.38         1     no  southeast   2438.05520\n",
       "860    37  female  47.60         2    yes  southwest  46113.51100\n",
       "1047   22    male  52.58         1    yes  southeast  44501.39820\n",
       "1088   52    male  47.74         1     no  southeast   9748.91060\n",
       "1317   18    male  53.13         0     no  southeast   1163.46270"
      ]
     },
     "execution_count": 251,
     "metadata": {},
     "output_type": "execute_result"
    }
   ],
   "source": [
    "# Findding outliers in upper boundary\n",
    "\n",
    "upper_outliers = dataset[dataset[\"bmi\"] > upper_boundary ]\n",
    "upper_outliers"
   ]
  },
  {
   "cell_type": "code",
   "execution_count": 252,
   "id": "32f55ee0",
   "metadata": {},
   "outputs": [
    {
     "name": "stdout",
     "output_type": "stream",
     "text": [
      "(0, 7)\n",
      "(9, 7)\n"
     ]
    }
   ],
   "source": [
    "print(lower_outliers.shape)\n",
    "print(upper_outliers.shape)"
   ]
  },
  {
   "cell_type": "markdown",
   "id": "0baab792",
   "metadata": {},
   "source": [
    "### `Finding outliers on charges`"
   ]
  },
  {
   "cell_type": "code",
   "execution_count": 253,
   "id": "821ddcb4",
   "metadata": {},
   "outputs": [
    {
     "name": "stdout",
     "output_type": "stream",
     "text": [
      "Q_1 =  4746.344 Q_3 =  16657.71745\n"
     ]
    }
   ],
   "source": [
    "Q_1 = dataset[\"charges\"].quantile(0.25)\n",
    "Q_3 = dataset[\"charges\"].quantile(0.75)\n",
    "print(\"Q_1 = \",Q_1, \"Q_3 = \",Q_3)"
   ]
  },
  {
   "cell_type": "code",
   "execution_count": 254,
   "id": "2276bc1f",
   "metadata": {},
   "outputs": [
    {
     "name": "stdout",
     "output_type": "stream",
     "text": [
      "IQR =  11911.37345\n"
     ]
    }
   ],
   "source": [
    "IQR = Q_3 -Q_1\n",
    "print(\"IQR = \",IQR)"
   ]
  },
  {
   "cell_type": "code",
   "execution_count": 255,
   "id": "99cb00f3",
   "metadata": {},
   "outputs": [
    {
     "name": "stdout",
     "output_type": "stream",
     "text": [
      "lower_boundary =  -13120.716174999998\n",
      "upper_boundary =  34524.777625\n"
     ]
    }
   ],
   "source": [
    "lower_boundary = Q_1 - (IQR * 1.5)\n",
    "upper_boundary = Q_3 + (IQR * 1.5)\n",
    "print(\"lower_boundary = \", lower_boundary)\n",
    "print(\"upper_boundary = \", upper_boundary)"
   ]
  },
  {
   "cell_type": "code",
   "execution_count": 256,
   "id": "53a7f8a9",
   "metadata": {},
   "outputs": [
    {
     "data": {
      "text/html": [
       "<div>\n",
       "<style scoped>\n",
       "    .dataframe tbody tr th:only-of-type {\n",
       "        vertical-align: middle;\n",
       "    }\n",
       "\n",
       "    .dataframe tbody tr th {\n",
       "        vertical-align: top;\n",
       "    }\n",
       "\n",
       "    .dataframe thead th {\n",
       "        text-align: right;\n",
       "    }\n",
       "</style>\n",
       "<table border=\"1\" class=\"dataframe\">\n",
       "  <thead>\n",
       "    <tr style=\"text-align: right;\">\n",
       "      <th></th>\n",
       "      <th>age</th>\n",
       "      <th>sex</th>\n",
       "      <th>bmi</th>\n",
       "      <th>children</th>\n",
       "      <th>smoker</th>\n",
       "      <th>region</th>\n",
       "      <th>charges</th>\n",
       "    </tr>\n",
       "  </thead>\n",
       "  <tbody>\n",
       "  </tbody>\n",
       "</table>\n",
       "</div>"
      ],
      "text/plain": [
       "Empty DataFrame\n",
       "Columns: [age, sex, bmi, children, smoker, region, charges]\n",
       "Index: []"
      ]
     },
     "execution_count": 256,
     "metadata": {},
     "output_type": "execute_result"
    }
   ],
   "source": [
    "# Findding outliers in lower boundary\n",
    "\n",
    "lower_outliers = dataset[dataset[\"charges\"]<lower_boundary ]\n",
    "lower_outliers"
   ]
  },
  {
   "cell_type": "code",
   "execution_count": 257,
   "id": "135c1859",
   "metadata": {},
   "outputs": [
    {
     "data": {
      "text/html": [
       "<div>\n",
       "<style scoped>\n",
       "    .dataframe tbody tr th:only-of-type {\n",
       "        vertical-align: middle;\n",
       "    }\n",
       "\n",
       "    .dataframe tbody tr th {\n",
       "        vertical-align: top;\n",
       "    }\n",
       "\n",
       "    .dataframe thead th {\n",
       "        text-align: right;\n",
       "    }\n",
       "</style>\n",
       "<table border=\"1\" class=\"dataframe\">\n",
       "  <thead>\n",
       "    <tr style=\"text-align: right;\">\n",
       "      <th></th>\n",
       "      <th>age</th>\n",
       "      <th>sex</th>\n",
       "      <th>bmi</th>\n",
       "      <th>children</th>\n",
       "      <th>smoker</th>\n",
       "      <th>region</th>\n",
       "      <th>charges</th>\n",
       "    </tr>\n",
       "  </thead>\n",
       "  <tbody>\n",
       "    <tr>\n",
       "      <th>14</th>\n",
       "      <td>27</td>\n",
       "      <td>male</td>\n",
       "      <td>42.130</td>\n",
       "      <td>0</td>\n",
       "      <td>yes</td>\n",
       "      <td>southeast</td>\n",
       "      <td>39611.75770</td>\n",
       "    </tr>\n",
       "    <tr>\n",
       "      <th>19</th>\n",
       "      <td>30</td>\n",
       "      <td>male</td>\n",
       "      <td>35.300</td>\n",
       "      <td>0</td>\n",
       "      <td>yes</td>\n",
       "      <td>southwest</td>\n",
       "      <td>36837.46700</td>\n",
       "    </tr>\n",
       "    <tr>\n",
       "      <th>23</th>\n",
       "      <td>34</td>\n",
       "      <td>female</td>\n",
       "      <td>31.920</td>\n",
       "      <td>1</td>\n",
       "      <td>yes</td>\n",
       "      <td>northeast</td>\n",
       "      <td>37701.87680</td>\n",
       "    </tr>\n",
       "    <tr>\n",
       "      <th>29</th>\n",
       "      <td>31</td>\n",
       "      <td>male</td>\n",
       "      <td>36.300</td>\n",
       "      <td>2</td>\n",
       "      <td>yes</td>\n",
       "      <td>southwest</td>\n",
       "      <td>38711.00000</td>\n",
       "    </tr>\n",
       "    <tr>\n",
       "      <th>30</th>\n",
       "      <td>22</td>\n",
       "      <td>male</td>\n",
       "      <td>35.600</td>\n",
       "      <td>0</td>\n",
       "      <td>yes</td>\n",
       "      <td>southwest</td>\n",
       "      <td>35585.57600</td>\n",
       "    </tr>\n",
       "    <tr>\n",
       "      <th>...</th>\n",
       "      <td>...</td>\n",
       "      <td>...</td>\n",
       "      <td>...</td>\n",
       "      <td>...</td>\n",
       "      <td>...</td>\n",
       "      <td>...</td>\n",
       "      <td>...</td>\n",
       "    </tr>\n",
       "    <tr>\n",
       "      <th>1300</th>\n",
       "      <td>45</td>\n",
       "      <td>male</td>\n",
       "      <td>30.360</td>\n",
       "      <td>0</td>\n",
       "      <td>yes</td>\n",
       "      <td>southeast</td>\n",
       "      <td>62592.87309</td>\n",
       "    </tr>\n",
       "    <tr>\n",
       "      <th>1301</th>\n",
       "      <td>62</td>\n",
       "      <td>male</td>\n",
       "      <td>30.875</td>\n",
       "      <td>3</td>\n",
       "      <td>yes</td>\n",
       "      <td>northwest</td>\n",
       "      <td>46718.16325</td>\n",
       "    </tr>\n",
       "    <tr>\n",
       "      <th>1303</th>\n",
       "      <td>43</td>\n",
       "      <td>male</td>\n",
       "      <td>27.800</td>\n",
       "      <td>0</td>\n",
       "      <td>yes</td>\n",
       "      <td>southwest</td>\n",
       "      <td>37829.72420</td>\n",
       "    </tr>\n",
       "    <tr>\n",
       "      <th>1313</th>\n",
       "      <td>19</td>\n",
       "      <td>female</td>\n",
       "      <td>34.700</td>\n",
       "      <td>2</td>\n",
       "      <td>yes</td>\n",
       "      <td>southwest</td>\n",
       "      <td>36397.57600</td>\n",
       "    </tr>\n",
       "    <tr>\n",
       "      <th>1323</th>\n",
       "      <td>42</td>\n",
       "      <td>female</td>\n",
       "      <td>40.370</td>\n",
       "      <td>2</td>\n",
       "      <td>yes</td>\n",
       "      <td>southeast</td>\n",
       "      <td>43896.37630</td>\n",
       "    </tr>\n",
       "  </tbody>\n",
       "</table>\n",
       "<p>139 rows × 7 columns</p>\n",
       "</div>"
      ],
      "text/plain": [
       "      age     sex     bmi  children smoker     region      charges\n",
       "14     27    male  42.130         0    yes  southeast  39611.75770\n",
       "19     30    male  35.300         0    yes  southwest  36837.46700\n",
       "23     34  female  31.920         1    yes  northeast  37701.87680\n",
       "29     31    male  36.300         2    yes  southwest  38711.00000\n",
       "30     22    male  35.600         0    yes  southwest  35585.57600\n",
       "...   ...     ...     ...       ...    ...        ...          ...\n",
       "1300   45    male  30.360         0    yes  southeast  62592.87309\n",
       "1301   62    male  30.875         3    yes  northwest  46718.16325\n",
       "1303   43    male  27.800         0    yes  southwest  37829.72420\n",
       "1313   19  female  34.700         2    yes  southwest  36397.57600\n",
       "1323   42  female  40.370         2    yes  southeast  43896.37630\n",
       "\n",
       "[139 rows x 7 columns]"
      ]
     },
     "execution_count": 257,
     "metadata": {},
     "output_type": "execute_result"
    }
   ],
   "source": [
    "# Findding outliers in upper boundary\n",
    "\n",
    "upper_outliers = dataset[dataset[\"charges\"] > upper_boundary ]\n",
    "upper_outliers"
   ]
  },
  {
   "cell_type": "markdown",
   "id": "f319bf51",
   "metadata": {},
   "source": [
    "#### Conclusion : `Since outliers are greater in number we cannot drop or modify outliers`"
   ]
  },
  {
   "cell_type": "markdown",
   "id": "10241912",
   "metadata": {},
   "source": [
    "## `Removing Unwanted columns`\n",
    "## `EDA on continuous variables`"
   ]
  },
  {
   "cell_type": "code",
   "execution_count": 258,
   "id": "005f1343",
   "metadata": {},
   "outputs": [
    {
     "data": {
      "image/png": "[encoded data removed]",
      "text/plain": [
       "<Figure size 640x480 with 2 Axes>"
      ]
     },
     "metadata": {},
     "output_type": "display_data"
    }
   ],
   "source": [
    "sns.heatmap(numeric_col.corr(), annot = True)\n",
    "plt.show()"
   ]
  },
  {
   "cell_type": "markdown",
   "id": "03f37050",
   "metadata": {},
   "source": [
    "#### Conclusion : ` Here we can see Age and charges are having positive correlation`"
   ]
  },
  {
   "cell_type": "markdown",
   "id": "4561f886",
   "metadata": {},
   "source": [
    "## `EDA on categorical and continuous variables`"
   ]
  },
  {
   "cell_type": "code",
   "execution_count": 259,
   "id": "e2ad0ac0",
   "metadata": {},
   "outputs": [
    {
     "data": {
      "image/png": "[encoded data removed]",
      "text/plain": [
       "<Figure size 640x480 with 1 Axes>"
      ]
     },
     "metadata": {},
     "output_type": "display_data"
    }
   ],
   "source": [
    "sns.boxplot(x=dataset['smoker'],y=dataset['charges'])\n",
    "plt.show()"
   ]
  },
  {
   "cell_type": "code",
   "execution_count": 260,
   "id": "5072fdc1",
   "metadata": {},
   "outputs": [
    {
     "data": {
      "image/png": "[encoded data removed]",
      "text/plain": [
       "<Figure size 640x480 with 1 Axes>"
      ]
     },
     "metadata": {},
     "output_type": "display_data"
    }
   ],
   "source": [
    "sns.boxplot(x=dataset['region'],y=dataset['charges'])\n",
    "plt.show()"
   ]
  },
  {
   "cell_type": "code",
   "execution_count": 261,
   "id": "9fc0ed4b",
   "metadata": {},
   "outputs": [
    {
     "data": {
      "image/png": "[encoded data removed]",
      "text/plain": [
       "<Figure size 640x480 with 1 Axes>"
      ]
     },
     "metadata": {},
     "output_type": "display_data"
    }
   ],
   "source": [
    "sns.boxplot(x=dataset['sex'],y=dataset['charges'])\n",
    "plt.show()"
   ]
  },
  {
   "cell_type": "markdown",
   "id": "ff80ed04",
   "metadata": {},
   "source": [
    "#### Observation : ` Here No need to drop any columns since we can see relationship between columns`"
   ]
  },
  {
   "cell_type": "markdown",
   "id": "85bb11ab",
   "metadata": {},
   "source": [
    "## Encoding categorical text data"
   ]
  },
  {
   "cell_type": "markdown",
   "id": "81de8bca",
   "metadata": {},
   "source": [
    "### `coverting categorical text data to a numerical form`\n",
    "#### Conclusion : `The categorical columns are in Nominal data, hence we use One-hot Encoding`"
   ]
  },
  {
   "cell_type": "code",
   "execution_count": 262,
   "id": "e4c0cd85",
   "metadata": {},
   "outputs": [
    {
     "data": {
      "text/html": [
       "<div>\n",
       "<style scoped>\n",
       "    .dataframe tbody tr th:only-of-type {\n",
       "        vertical-align: middle;\n",
       "    }\n",
       "\n",
       "    .dataframe tbody tr th {\n",
       "        vertical-align: top;\n",
       "    }\n",
       "\n",
       "    .dataframe thead th {\n",
       "        text-align: right;\n",
       "    }\n",
       "</style>\n",
       "<table border=\"1\" class=\"dataframe\">\n",
       "  <thead>\n",
       "    <tr style=\"text-align: right;\">\n",
       "      <th></th>\n",
       "      <th>age</th>\n",
       "      <th>sex</th>\n",
       "      <th>bmi</th>\n",
       "      <th>children</th>\n",
       "      <th>smoker</th>\n",
       "      <th>region</th>\n",
       "      <th>charges</th>\n",
       "    </tr>\n",
       "  </thead>\n",
       "  <tbody>\n",
       "    <tr>\n",
       "      <th>0</th>\n",
       "      <td>19</td>\n",
       "      <td>female</td>\n",
       "      <td>27.900</td>\n",
       "      <td>0</td>\n",
       "      <td>yes</td>\n",
       "      <td>southwest</td>\n",
       "      <td>16884.92400</td>\n",
       "    </tr>\n",
       "    <tr>\n",
       "      <th>1</th>\n",
       "      <td>18</td>\n",
       "      <td>male</td>\n",
       "      <td>33.770</td>\n",
       "      <td>1</td>\n",
       "      <td>no</td>\n",
       "      <td>southeast</td>\n",
       "      <td>1725.55230</td>\n",
       "    </tr>\n",
       "    <tr>\n",
       "      <th>2</th>\n",
       "      <td>28</td>\n",
       "      <td>male</td>\n",
       "      <td>33.000</td>\n",
       "      <td>3</td>\n",
       "      <td>no</td>\n",
       "      <td>southeast</td>\n",
       "      <td>4449.46200</td>\n",
       "    </tr>\n",
       "    <tr>\n",
       "      <th>3</th>\n",
       "      <td>33</td>\n",
       "      <td>male</td>\n",
       "      <td>22.705</td>\n",
       "      <td>0</td>\n",
       "      <td>no</td>\n",
       "      <td>northwest</td>\n",
       "      <td>21984.47061</td>\n",
       "    </tr>\n",
       "    <tr>\n",
       "      <th>4</th>\n",
       "      <td>32</td>\n",
       "      <td>male</td>\n",
       "      <td>28.880</td>\n",
       "      <td>0</td>\n",
       "      <td>no</td>\n",
       "      <td>northwest</td>\n",
       "      <td>3866.85520</td>\n",
       "    </tr>\n",
       "  </tbody>\n",
       "</table>\n",
       "</div>"
      ],
      "text/plain": [
       "   age     sex     bmi  children smoker     region      charges\n",
       "0   19  female  27.900         0    yes  southwest  16884.92400\n",
       "1   18    male  33.770         1     no  southeast   1725.55230\n",
       "2   28    male  33.000         3     no  southeast   4449.46200\n",
       "3   33    male  22.705         0     no  northwest  21984.47061\n",
       "4   32    male  28.880         0     no  northwest   3866.85520"
      ]
     },
     "execution_count": 262,
     "metadata": {},
     "output_type": "execute_result"
    }
   ],
   "source": [
    "dataset.head()"
   ]
  },
  {
   "cell_type": "code",
   "execution_count": 263,
   "id": "9553937d",
   "metadata": {},
   "outputs": [],
   "source": [
    "def num_univariate_analysis(data):\n",
    "    for col_name in data:\n",
    "        print(\"*\"*10, col_name, \"*\"*10)\n",
    "        print(data[col_name].agg([\"value_counts\"]))\n",
    "        print()"
   ]
  },
  {
   "cell_type": "code",
   "execution_count": 264,
   "id": "fc3c3b80",
   "metadata": {},
   "outputs": [
    {
     "name": "stdout",
     "output_type": "stream",
     "text": [
      "********** sex **********\n",
      "        value_counts\n",
      "male             676\n",
      "female           662\n",
      "\n",
      "********** smoker **********\n",
      "     value_counts\n",
      "no           1064\n",
      "yes           274\n",
      "\n",
      "********** region **********\n",
      "           value_counts\n",
      "southeast           364\n",
      "southwest           325\n",
      "northwest           325\n",
      "northeast           324\n",
      "\n"
     ]
    }
   ],
   "source": [
    "num_univariate_analysis(object_col)"
   ]
  },
  {
   "cell_type": "markdown",
   "id": "2667f66b",
   "metadata": {},
   "source": [
    "#### `try to handle sex and smoker & region in numerical data`"
   ]
  },
  {
   "cell_type": "code",
   "execution_count": 265,
   "id": "40d6e945",
   "metadata": {},
   "outputs": [],
   "source": [
    "# By using sklear(scikit learn)\n",
    "\n",
    "from sklearn.compose import ColumnTransformer "
   ]
  },
  {
   "cell_type": "code",
   "execution_count": 266,
   "id": "0dd74a4a",
   "metadata": {},
   "outputs": [],
   "source": [
    "from sklearn.preprocessing import OneHotEncoder"
   ]
  },
  {
   "cell_type": "code",
   "execution_count": 267,
   "id": "26bbc130",
   "metadata": {},
   "outputs": [],
   "source": [
    "# object of OneHotEncoder\n",
    "\n",
    "oh = OneHotEncoder()"
   ]
  },
  {
   "cell_type": "code",
   "execution_count": 268,
   "id": "a92a6a7f",
   "metadata": {},
   "outputs": [],
   "source": [
    "ct = ColumnTransformer(transformers =  [(\"ohe\",oh,[\"sex\",\"smoker\",\"region\"] )], remainder = \"passthrough\")"
   ]
  },
  {
   "cell_type": "code",
   "execution_count": 269,
   "id": "e9f68993",
   "metadata": {},
   "outputs": [
    {
     "data": {
      "text/plain": [
       "array([[1.00000000e+00, 0.00000000e+00, 0.00000000e+00, ...,\n",
       "        2.79000000e+01, 0.00000000e+00, 1.68849240e+04],\n",
       "       [0.00000000e+00, 1.00000000e+00, 1.00000000e+00, ...,\n",
       "        3.37700000e+01, 1.00000000e+00, 1.72555230e+03],\n",
       "       [0.00000000e+00, 1.00000000e+00, 1.00000000e+00, ...,\n",
       "        3.30000000e+01, 3.00000000e+00, 4.44946200e+03],\n",
       "       ...,\n",
       "       [1.00000000e+00, 0.00000000e+00, 1.00000000e+00, ...,\n",
       "        3.68500000e+01, 0.00000000e+00, 1.62983350e+03],\n",
       "       [1.00000000e+00, 0.00000000e+00, 1.00000000e+00, ...,\n",
       "        2.58000000e+01, 0.00000000e+00, 2.00794500e+03],\n",
       "       [1.00000000e+00, 0.00000000e+00, 0.00000000e+00, ...,\n",
       "        2.90700000e+01, 0.00000000e+00, 2.91413603e+04]])"
      ]
     },
     "execution_count": 269,
     "metadata": {},
     "output_type": "execute_result"
    }
   ],
   "source": [
    "dataset = ct.fit_transform(dataset)\n",
    "dataset"
   ]
  },
  {
   "cell_type": "code",
   "execution_count": 270,
   "id": "48cba9f5",
   "metadata": {},
   "outputs": [
    {
     "data": {
      "text/plain": [
       "array(['ohe__sex_female', 'ohe__sex_male', 'ohe__smoker_no',\n",
       "       'ohe__smoker_yes', 'ohe__region_northeast',\n",
       "       'ohe__region_northwest', 'ohe__region_southeast',\n",
       "       'ohe__region_southwest', 'remainder__age', 'remainder__bmi',\n",
       "       'remainder__children', 'remainder__charges'], dtype=object)"
      ]
     },
     "execution_count": 270,
     "metadata": {},
     "output_type": "execute_result"
    }
   ],
   "source": [
    "ct.get_feature_names_out()"
   ]
  },
  {
   "cell_type": "code",
   "execution_count": 271,
   "id": "0c344927",
   "metadata": {},
   "outputs": [],
   "source": [
    "col_name = [each_col.split(\"__\")[1] for each_col in ct.get_feature_names_out()]"
   ]
  },
  {
   "cell_type": "code",
   "execution_count": 272,
   "id": "ee196487",
   "metadata": {},
   "outputs": [],
   "source": [
    "dataset = pd.DataFrame(dataset, columns = col_name)"
   ]
  },
  {
   "cell_type": "code",
   "execution_count": 273,
   "id": "8408dab3",
   "metadata": {},
   "outputs": [
    {
     "data": {
      "text/html": [
       "<div>\n",
       "<style scoped>\n",
       "    .dataframe tbody tr th:only-of-type {\n",
       "        vertical-align: middle;\n",
       "    }\n",
       "\n",
       "    .dataframe tbody tr th {\n",
       "        vertical-align: top;\n",
       "    }\n",
       "\n",
       "    .dataframe thead th {\n",
       "        text-align: right;\n",
       "    }\n",
       "</style>\n",
       "<table border=\"1\" class=\"dataframe\">\n",
       "  <thead>\n",
       "    <tr style=\"text-align: right;\">\n",
       "      <th></th>\n",
       "      <th>sex_female</th>\n",
       "      <th>sex_male</th>\n",
       "      <th>smoker_no</th>\n",
       "      <th>smoker_yes</th>\n",
       "      <th>region_northeast</th>\n",
       "      <th>region_northwest</th>\n",
       "      <th>region_southeast</th>\n",
       "      <th>region_southwest</th>\n",
       "      <th>age</th>\n",
       "      <th>bmi</th>\n",
       "      <th>children</th>\n",
       "      <th>charges</th>\n",
       "    </tr>\n",
       "  </thead>\n",
       "  <tbody>\n",
       "    <tr>\n",
       "      <th>0</th>\n",
       "      <td>1.0</td>\n",
       "      <td>0.0</td>\n",
       "      <td>0.0</td>\n",
       "      <td>1.0</td>\n",
       "      <td>0.0</td>\n",
       "      <td>0.0</td>\n",
       "      <td>0.0</td>\n",
       "      <td>1.0</td>\n",
       "      <td>19.0</td>\n",
       "      <td>27.900</td>\n",
       "      <td>0.0</td>\n",
       "      <td>16884.92400</td>\n",
       "    </tr>\n",
       "    <tr>\n",
       "      <th>1</th>\n",
       "      <td>0.0</td>\n",
       "      <td>1.0</td>\n",
       "      <td>1.0</td>\n",
       "      <td>0.0</td>\n",
       "      <td>0.0</td>\n",
       "      <td>0.0</td>\n",
       "      <td>1.0</td>\n",
       "      <td>0.0</td>\n",
       "      <td>18.0</td>\n",
       "      <td>33.770</td>\n",
       "      <td>1.0</td>\n",
       "      <td>1725.55230</td>\n",
       "    </tr>\n",
       "    <tr>\n",
       "      <th>2</th>\n",
       "      <td>0.0</td>\n",
       "      <td>1.0</td>\n",
       "      <td>1.0</td>\n",
       "      <td>0.0</td>\n",
       "      <td>0.0</td>\n",
       "      <td>0.0</td>\n",
       "      <td>1.0</td>\n",
       "      <td>0.0</td>\n",
       "      <td>28.0</td>\n",
       "      <td>33.000</td>\n",
       "      <td>3.0</td>\n",
       "      <td>4449.46200</td>\n",
       "    </tr>\n",
       "    <tr>\n",
       "      <th>3</th>\n",
       "      <td>0.0</td>\n",
       "      <td>1.0</td>\n",
       "      <td>1.0</td>\n",
       "      <td>0.0</td>\n",
       "      <td>0.0</td>\n",
       "      <td>1.0</td>\n",
       "      <td>0.0</td>\n",
       "      <td>0.0</td>\n",
       "      <td>33.0</td>\n",
       "      <td>22.705</td>\n",
       "      <td>0.0</td>\n",
       "      <td>21984.47061</td>\n",
       "    </tr>\n",
       "    <tr>\n",
       "      <th>4</th>\n",
       "      <td>0.0</td>\n",
       "      <td>1.0</td>\n",
       "      <td>1.0</td>\n",
       "      <td>0.0</td>\n",
       "      <td>0.0</td>\n",
       "      <td>1.0</td>\n",
       "      <td>0.0</td>\n",
       "      <td>0.0</td>\n",
       "      <td>32.0</td>\n",
       "      <td>28.880</td>\n",
       "      <td>0.0</td>\n",
       "      <td>3866.85520</td>\n",
       "    </tr>\n",
       "    <tr>\n",
       "      <th>...</th>\n",
       "      <td>...</td>\n",
       "      <td>...</td>\n",
       "      <td>...</td>\n",
       "      <td>...</td>\n",
       "      <td>...</td>\n",
       "      <td>...</td>\n",
       "      <td>...</td>\n",
       "      <td>...</td>\n",
       "      <td>...</td>\n",
       "      <td>...</td>\n",
       "      <td>...</td>\n",
       "      <td>...</td>\n",
       "    </tr>\n",
       "    <tr>\n",
       "      <th>1332</th>\n",
       "      <td>0.0</td>\n",
       "      <td>1.0</td>\n",
       "      <td>1.0</td>\n",
       "      <td>0.0</td>\n",
       "      <td>0.0</td>\n",
       "      <td>1.0</td>\n",
       "      <td>0.0</td>\n",
       "      <td>0.0</td>\n",
       "      <td>50.0</td>\n",
       "      <td>30.970</td>\n",
       "      <td>3.0</td>\n",
       "      <td>10600.54830</td>\n",
       "    </tr>\n",
       "    <tr>\n",
       "      <th>1333</th>\n",
       "      <td>1.0</td>\n",
       "      <td>0.0</td>\n",
       "      <td>1.0</td>\n",
       "      <td>0.0</td>\n",
       "      <td>1.0</td>\n",
       "      <td>0.0</td>\n",
       "      <td>0.0</td>\n",
       "      <td>0.0</td>\n",
       "      <td>18.0</td>\n",
       "      <td>31.920</td>\n",
       "      <td>0.0</td>\n",
       "      <td>2205.98080</td>\n",
       "    </tr>\n",
       "    <tr>\n",
       "      <th>1334</th>\n",
       "      <td>1.0</td>\n",
       "      <td>0.0</td>\n",
       "      <td>1.0</td>\n",
       "      <td>0.0</td>\n",
       "      <td>0.0</td>\n",
       "      <td>0.0</td>\n",
       "      <td>1.0</td>\n",
       "      <td>0.0</td>\n",
       "      <td>18.0</td>\n",
       "      <td>36.850</td>\n",
       "      <td>0.0</td>\n",
       "      <td>1629.83350</td>\n",
       "    </tr>\n",
       "    <tr>\n",
       "      <th>1335</th>\n",
       "      <td>1.0</td>\n",
       "      <td>0.0</td>\n",
       "      <td>1.0</td>\n",
       "      <td>0.0</td>\n",
       "      <td>0.0</td>\n",
       "      <td>0.0</td>\n",
       "      <td>0.0</td>\n",
       "      <td>1.0</td>\n",
       "      <td>21.0</td>\n",
       "      <td>25.800</td>\n",
       "      <td>0.0</td>\n",
       "      <td>2007.94500</td>\n",
       "    </tr>\n",
       "    <tr>\n",
       "      <th>1336</th>\n",
       "      <td>1.0</td>\n",
       "      <td>0.0</td>\n",
       "      <td>0.0</td>\n",
       "      <td>1.0</td>\n",
       "      <td>0.0</td>\n",
       "      <td>1.0</td>\n",
       "      <td>0.0</td>\n",
       "      <td>0.0</td>\n",
       "      <td>61.0</td>\n",
       "      <td>29.070</td>\n",
       "      <td>0.0</td>\n",
       "      <td>29141.36030</td>\n",
       "    </tr>\n",
       "  </tbody>\n",
       "</table>\n",
       "<p>1337 rows × 12 columns</p>\n",
       "</div>"
      ],
      "text/plain": [
       "      sex_female  sex_male  smoker_no  smoker_yes  region_northeast  \\\n",
       "0            1.0       0.0        0.0         1.0               0.0   \n",
       "1            0.0       1.0        1.0         0.0               0.0   \n",
       "2            0.0       1.0        1.0         0.0               0.0   \n",
       "3            0.0       1.0        1.0         0.0               0.0   \n",
       "4            0.0       1.0        1.0         0.0               0.0   \n",
       "...          ...       ...        ...         ...               ...   \n",
       "1332         0.0       1.0        1.0         0.0               0.0   \n",
       "1333         1.0       0.0        1.0         0.0               1.0   \n",
       "1334         1.0       0.0        1.0         0.0               0.0   \n",
       "1335         1.0       0.0        1.0         0.0               0.0   \n",
       "1336         1.0       0.0        0.0         1.0               0.0   \n",
       "\n",
       "      region_northwest  region_southeast  region_southwest   age     bmi  \\\n",
       "0                  0.0               0.0               1.0  19.0  27.900   \n",
       "1                  0.0               1.0               0.0  18.0  33.770   \n",
       "2                  0.0               1.0               0.0  28.0  33.000   \n",
       "3                  1.0               0.0               0.0  33.0  22.705   \n",
       "4                  1.0               0.0               0.0  32.0  28.880   \n",
       "...                ...               ...               ...   ...     ...   \n",
       "1332               1.0               0.0               0.0  50.0  30.970   \n",
       "1333               0.0               0.0               0.0  18.0  31.920   \n",
       "1334               0.0               1.0               0.0  18.0  36.850   \n",
       "1335               0.0               0.0               1.0  21.0  25.800   \n",
       "1336               1.0               0.0               0.0  61.0  29.070   \n",
       "\n",
       "      children      charges  \n",
       "0          0.0  16884.92400  \n",
       "1          1.0   1725.55230  \n",
       "2          3.0   4449.46200  \n",
       "3          0.0  21984.47061  \n",
       "4          0.0   3866.85520  \n",
       "...        ...          ...  \n",
       "1332       3.0  10600.54830  \n",
       "1333       0.0   2205.98080  \n",
       "1334       0.0   1629.83350  \n",
       "1335       0.0   2007.94500  \n",
       "1336       0.0  29141.36030  \n",
       "\n",
       "[1337 rows x 12 columns]"
      ]
     },
     "execution_count": 273,
     "metadata": {},
     "output_type": "execute_result"
    }
   ],
   "source": [
    "dataset"
   ]
  },
  {
   "cell_type": "code",
   "execution_count": 274,
   "id": "090a9085",
   "metadata": {},
   "outputs": [
    {
     "data": {
      "text/plain": [
       "sex_female          float64\n",
       "sex_male            float64\n",
       "smoker_no           float64\n",
       "smoker_yes          float64\n",
       "region_northeast    float64\n",
       "region_northwest    float64\n",
       "region_southeast    float64\n",
       "region_southwest    float64\n",
       "age                 float64\n",
       "bmi                 float64\n",
       "children            float64\n",
       "charges             float64\n",
       "dtype: object"
      ]
     },
     "execution_count": 274,
     "metadata": {},
     "output_type": "execute_result"
    }
   ],
   "source": [
    "dataset.dtypes"
   ]
  },
  {
   "cell_type": "markdown",
   "id": "76763998",
   "metadata": {},
   "source": [
    "## `Split independent and dependent Variable`"
   ]
  },
  {
   "cell_type": "code",
   "execution_count": 275,
   "id": "80c04507",
   "metadata": {},
   "outputs": [
    {
     "data": {
      "text/html": [
       "<div>\n",
       "<style scoped>\n",
       "    .dataframe tbody tr th:only-of-type {\n",
       "        vertical-align: middle;\n",
       "    }\n",
       "\n",
       "    .dataframe tbody tr th {\n",
       "        vertical-align: top;\n",
       "    }\n",
       "\n",
       "    .dataframe thead th {\n",
       "        text-align: right;\n",
       "    }\n",
       "</style>\n",
       "<table border=\"1\" class=\"dataframe\">\n",
       "  <thead>\n",
       "    <tr style=\"text-align: right;\">\n",
       "      <th></th>\n",
       "      <th>sex_female</th>\n",
       "      <th>sex_male</th>\n",
       "      <th>smoker_no</th>\n",
       "      <th>smoker_yes</th>\n",
       "      <th>region_northeast</th>\n",
       "      <th>region_northwest</th>\n",
       "      <th>region_southeast</th>\n",
       "      <th>region_southwest</th>\n",
       "      <th>age</th>\n",
       "      <th>bmi</th>\n",
       "      <th>children</th>\n",
       "    </tr>\n",
       "  </thead>\n",
       "  <tbody>\n",
       "    <tr>\n",
       "      <th>0</th>\n",
       "      <td>1.0</td>\n",
       "      <td>0.0</td>\n",
       "      <td>0.0</td>\n",
       "      <td>1.0</td>\n",
       "      <td>0.0</td>\n",
       "      <td>0.0</td>\n",
       "      <td>0.0</td>\n",
       "      <td>1.0</td>\n",
       "      <td>19.0</td>\n",
       "      <td>27.900</td>\n",
       "      <td>0.0</td>\n",
       "    </tr>\n",
       "    <tr>\n",
       "      <th>1</th>\n",
       "      <td>0.0</td>\n",
       "      <td>1.0</td>\n",
       "      <td>1.0</td>\n",
       "      <td>0.0</td>\n",
       "      <td>0.0</td>\n",
       "      <td>0.0</td>\n",
       "      <td>1.0</td>\n",
       "      <td>0.0</td>\n",
       "      <td>18.0</td>\n",
       "      <td>33.770</td>\n",
       "      <td>1.0</td>\n",
       "    </tr>\n",
       "    <tr>\n",
       "      <th>2</th>\n",
       "      <td>0.0</td>\n",
       "      <td>1.0</td>\n",
       "      <td>1.0</td>\n",
       "      <td>0.0</td>\n",
       "      <td>0.0</td>\n",
       "      <td>0.0</td>\n",
       "      <td>1.0</td>\n",
       "      <td>0.0</td>\n",
       "      <td>28.0</td>\n",
       "      <td>33.000</td>\n",
       "      <td>3.0</td>\n",
       "    </tr>\n",
       "    <tr>\n",
       "      <th>3</th>\n",
       "      <td>0.0</td>\n",
       "      <td>1.0</td>\n",
       "      <td>1.0</td>\n",
       "      <td>0.0</td>\n",
       "      <td>0.0</td>\n",
       "      <td>1.0</td>\n",
       "      <td>0.0</td>\n",
       "      <td>0.0</td>\n",
       "      <td>33.0</td>\n",
       "      <td>22.705</td>\n",
       "      <td>0.0</td>\n",
       "    </tr>\n",
       "    <tr>\n",
       "      <th>4</th>\n",
       "      <td>0.0</td>\n",
       "      <td>1.0</td>\n",
       "      <td>1.0</td>\n",
       "      <td>0.0</td>\n",
       "      <td>0.0</td>\n",
       "      <td>1.0</td>\n",
       "      <td>0.0</td>\n",
       "      <td>0.0</td>\n",
       "      <td>32.0</td>\n",
       "      <td>28.880</td>\n",
       "      <td>0.0</td>\n",
       "    </tr>\n",
       "    <tr>\n",
       "      <th>...</th>\n",
       "      <td>...</td>\n",
       "      <td>...</td>\n",
       "      <td>...</td>\n",
       "      <td>...</td>\n",
       "      <td>...</td>\n",
       "      <td>...</td>\n",
       "      <td>...</td>\n",
       "      <td>...</td>\n",
       "      <td>...</td>\n",
       "      <td>...</td>\n",
       "      <td>...</td>\n",
       "    </tr>\n",
       "    <tr>\n",
       "      <th>1332</th>\n",
       "      <td>0.0</td>\n",
       "      <td>1.0</td>\n",
       "      <td>1.0</td>\n",
       "      <td>0.0</td>\n",
       "      <td>0.0</td>\n",
       "      <td>1.0</td>\n",
       "      <td>0.0</td>\n",
       "      <td>0.0</td>\n",
       "      <td>50.0</td>\n",
       "      <td>30.970</td>\n",
       "      <td>3.0</td>\n",
       "    </tr>\n",
       "    <tr>\n",
       "      <th>1333</th>\n",
       "      <td>1.0</td>\n",
       "      <td>0.0</td>\n",
       "      <td>1.0</td>\n",
       "      <td>0.0</td>\n",
       "      <td>1.0</td>\n",
       "      <td>0.0</td>\n",
       "      <td>0.0</td>\n",
       "      <td>0.0</td>\n",
       "      <td>18.0</td>\n",
       "      <td>31.920</td>\n",
       "      <td>0.0</td>\n",
       "    </tr>\n",
       "    <tr>\n",
       "      <th>1334</th>\n",
       "      <td>1.0</td>\n",
       "      <td>0.0</td>\n",
       "      <td>1.0</td>\n",
       "      <td>0.0</td>\n",
       "      <td>0.0</td>\n",
       "      <td>0.0</td>\n",
       "      <td>1.0</td>\n",
       "      <td>0.0</td>\n",
       "      <td>18.0</td>\n",
       "      <td>36.850</td>\n",
       "      <td>0.0</td>\n",
       "    </tr>\n",
       "    <tr>\n",
       "      <th>1335</th>\n",
       "      <td>1.0</td>\n",
       "      <td>0.0</td>\n",
       "      <td>1.0</td>\n",
       "      <td>0.0</td>\n",
       "      <td>0.0</td>\n",
       "      <td>0.0</td>\n",
       "      <td>0.0</td>\n",
       "      <td>1.0</td>\n",
       "      <td>21.0</td>\n",
       "      <td>25.800</td>\n",
       "      <td>0.0</td>\n",
       "    </tr>\n",
       "    <tr>\n",
       "      <th>1336</th>\n",
       "      <td>1.0</td>\n",
       "      <td>0.0</td>\n",
       "      <td>0.0</td>\n",
       "      <td>1.0</td>\n",
       "      <td>0.0</td>\n",
       "      <td>1.0</td>\n",
       "      <td>0.0</td>\n",
       "      <td>0.0</td>\n",
       "      <td>61.0</td>\n",
       "      <td>29.070</td>\n",
       "      <td>0.0</td>\n",
       "    </tr>\n",
       "  </tbody>\n",
       "</table>\n",
       "<p>1337 rows × 11 columns</p>\n",
       "</div>"
      ],
      "text/plain": [
       "      sex_female  sex_male  smoker_no  smoker_yes  region_northeast  \\\n",
       "0            1.0       0.0        0.0         1.0               0.0   \n",
       "1            0.0       1.0        1.0         0.0               0.0   \n",
       "2            0.0       1.0        1.0         0.0               0.0   \n",
       "3            0.0       1.0        1.0         0.0               0.0   \n",
       "4            0.0       1.0        1.0         0.0               0.0   \n",
       "...          ...       ...        ...         ...               ...   \n",
       "1332         0.0       1.0        1.0         0.0               0.0   \n",
       "1333         1.0       0.0        1.0         0.0               1.0   \n",
       "1334         1.0       0.0        1.0         0.0               0.0   \n",
       "1335         1.0       0.0        1.0         0.0               0.0   \n",
       "1336         1.0       0.0        0.0         1.0               0.0   \n",
       "\n",
       "      region_northwest  region_southeast  region_southwest   age     bmi  \\\n",
       "0                  0.0               0.0               1.0  19.0  27.900   \n",
       "1                  0.0               1.0               0.0  18.0  33.770   \n",
       "2                  0.0               1.0               0.0  28.0  33.000   \n",
       "3                  1.0               0.0               0.0  33.0  22.705   \n",
       "4                  1.0               0.0               0.0  32.0  28.880   \n",
       "...                ...               ...               ...   ...     ...   \n",
       "1332               1.0               0.0               0.0  50.0  30.970   \n",
       "1333               0.0               0.0               0.0  18.0  31.920   \n",
       "1334               0.0               1.0               0.0  18.0  36.850   \n",
       "1335               0.0               0.0               1.0  21.0  25.800   \n",
       "1336               1.0               0.0               0.0  61.0  29.070   \n",
       "\n",
       "      children  \n",
       "0          0.0  \n",
       "1          1.0  \n",
       "2          3.0  \n",
       "3          0.0  \n",
       "4          0.0  \n",
       "...        ...  \n",
       "1332       3.0  \n",
       "1333       0.0  \n",
       "1334       0.0  \n",
       "1335       0.0  \n",
       "1336       0.0  \n",
       "\n",
       "[1337 rows x 11 columns]"
      ]
     },
     "execution_count": 275,
     "metadata": {},
     "output_type": "execute_result"
    }
   ],
   "source": [
    "# Independent Variable / input\n",
    "\n",
    "X = dataset.drop(\"charges\", axis = 1)\n",
    "X"
   ]
  },
  {
   "cell_type": "code",
   "execution_count": 277,
   "id": "1eae4656",
   "metadata": {},
   "outputs": [
    {
     "data": {
      "text/plain": [
       "0       16884.92400\n",
       "1        1725.55230\n",
       "2        4449.46200\n",
       "3       21984.47061\n",
       "4        3866.85520\n",
       "           ...     \n",
       "1332    10600.54830\n",
       "1333     2205.98080\n",
       "1334     1629.83350\n",
       "1335     2007.94500\n",
       "1336    29141.36030\n",
       "Name: charges, Length: 1337, dtype: float64"
      ]
     },
     "execution_count": 277,
     "metadata": {},
     "output_type": "execute_result"
    }
   ],
   "source": [
    "# Dependent Variable / Target\n",
    "\n",
    "y = dataset[\"charges\"]\n",
    "y"
   ]
  },
  {
   "cell_type": "markdown",
   "id": "7d410225",
   "metadata": {},
   "source": [
    "### `Split data into test and train`"
   ]
  },
  {
   "cell_type": "code",
   "execution_count": 278,
   "id": "db3dc8c1",
   "metadata": {},
   "outputs": [],
   "source": [
    "from sklearn.model_selection import train_test_split"
   ]
  },
  {
   "cell_type": "code",
   "execution_count": 279,
   "id": "a70c6758",
   "metadata": {},
   "outputs": [],
   "source": [
    "X_train, X_test, y_train, y_test, = train_test_split(X, y, test_size = 0.2475)"
   ]
  },
  {
   "cell_type": "code",
   "execution_count": 280,
   "id": "1704fb68",
   "metadata": {},
   "outputs": [
    {
     "data": {
      "text/html": [
       "<div>\n",
       "<style scoped>\n",
       "    .dataframe tbody tr th:only-of-type {\n",
       "        vertical-align: middle;\n",
       "    }\n",
       "\n",
       "    .dataframe tbody tr th {\n",
       "        vertical-align: top;\n",
       "    }\n",
       "\n",
       "    .dataframe thead th {\n",
       "        text-align: right;\n",
       "    }\n",
       "</style>\n",
       "<table border=\"1\" class=\"dataframe\">\n",
       "  <thead>\n",
       "    <tr style=\"text-align: right;\">\n",
       "      <th></th>\n",
       "      <th>sex_female</th>\n",
       "      <th>sex_male</th>\n",
       "      <th>smoker_no</th>\n",
       "      <th>smoker_yes</th>\n",
       "      <th>region_northeast</th>\n",
       "      <th>region_northwest</th>\n",
       "      <th>region_southeast</th>\n",
       "      <th>region_southwest</th>\n",
       "      <th>age</th>\n",
       "      <th>bmi</th>\n",
       "      <th>children</th>\n",
       "    </tr>\n",
       "  </thead>\n",
       "  <tbody>\n",
       "    <tr>\n",
       "      <th>1170</th>\n",
       "      <td>1.0</td>\n",
       "      <td>0.0</td>\n",
       "      <td>0.0</td>\n",
       "      <td>1.0</td>\n",
       "      <td>0.0</td>\n",
       "      <td>0.0</td>\n",
       "      <td>0.0</td>\n",
       "      <td>1.0</td>\n",
       "      <td>43.0</td>\n",
       "      <td>26.700</td>\n",
       "      <td>2.0</td>\n",
       "    </tr>\n",
       "    <tr>\n",
       "      <th>403</th>\n",
       "      <td>0.0</td>\n",
       "      <td>1.0</td>\n",
       "      <td>1.0</td>\n",
       "      <td>0.0</td>\n",
       "      <td>0.0</td>\n",
       "      <td>1.0</td>\n",
       "      <td>0.0</td>\n",
       "      <td>0.0</td>\n",
       "      <td>49.0</td>\n",
       "      <td>32.300</td>\n",
       "      <td>3.0</td>\n",
       "    </tr>\n",
       "    <tr>\n",
       "      <th>635</th>\n",
       "      <td>1.0</td>\n",
       "      <td>0.0</td>\n",
       "      <td>1.0</td>\n",
       "      <td>0.0</td>\n",
       "      <td>0.0</td>\n",
       "      <td>1.0</td>\n",
       "      <td>0.0</td>\n",
       "      <td>0.0</td>\n",
       "      <td>19.0</td>\n",
       "      <td>24.510</td>\n",
       "      <td>1.0</td>\n",
       "    </tr>\n",
       "    <tr>\n",
       "      <th>463</th>\n",
       "      <td>0.0</td>\n",
       "      <td>1.0</td>\n",
       "      <td>1.0</td>\n",
       "      <td>0.0</td>\n",
       "      <td>1.0</td>\n",
       "      <td>0.0</td>\n",
       "      <td>0.0</td>\n",
       "      <td>0.0</td>\n",
       "      <td>56.0</td>\n",
       "      <td>25.935</td>\n",
       "      <td>0.0</td>\n",
       "    </tr>\n",
       "    <tr>\n",
       "      <th>278</th>\n",
       "      <td>0.0</td>\n",
       "      <td>1.0</td>\n",
       "      <td>1.0</td>\n",
       "      <td>0.0</td>\n",
       "      <td>0.0</td>\n",
       "      <td>0.0</td>\n",
       "      <td>1.0</td>\n",
       "      <td>0.0</td>\n",
       "      <td>59.0</td>\n",
       "      <td>31.790</td>\n",
       "      <td>2.0</td>\n",
       "    </tr>\n",
       "    <tr>\n",
       "      <th>...</th>\n",
       "      <td>...</td>\n",
       "      <td>...</td>\n",
       "      <td>...</td>\n",
       "      <td>...</td>\n",
       "      <td>...</td>\n",
       "      <td>...</td>\n",
       "      <td>...</td>\n",
       "      <td>...</td>\n",
       "      <td>...</td>\n",
       "      <td>...</td>\n",
       "      <td>...</td>\n",
       "    </tr>\n",
       "    <tr>\n",
       "      <th>534</th>\n",
       "      <td>0.0</td>\n",
       "      <td>1.0</td>\n",
       "      <td>1.0</td>\n",
       "      <td>0.0</td>\n",
       "      <td>0.0</td>\n",
       "      <td>0.0</td>\n",
       "      <td>1.0</td>\n",
       "      <td>0.0</td>\n",
       "      <td>64.0</td>\n",
       "      <td>40.480</td>\n",
       "      <td>0.0</td>\n",
       "    </tr>\n",
       "    <tr>\n",
       "      <th>370</th>\n",
       "      <td>1.0</td>\n",
       "      <td>0.0</td>\n",
       "      <td>1.0</td>\n",
       "      <td>0.0</td>\n",
       "      <td>0.0</td>\n",
       "      <td>1.0</td>\n",
       "      <td>0.0</td>\n",
       "      <td>0.0</td>\n",
       "      <td>61.0</td>\n",
       "      <td>21.090</td>\n",
       "      <td>0.0</td>\n",
       "    </tr>\n",
       "    <tr>\n",
       "      <th>149</th>\n",
       "      <td>0.0</td>\n",
       "      <td>1.0</td>\n",
       "      <td>1.0</td>\n",
       "      <td>0.0</td>\n",
       "      <td>0.0</td>\n",
       "      <td>0.0</td>\n",
       "      <td>0.0</td>\n",
       "      <td>1.0</td>\n",
       "      <td>19.0</td>\n",
       "      <td>28.400</td>\n",
       "      <td>1.0</td>\n",
       "    </tr>\n",
       "    <tr>\n",
       "      <th>619</th>\n",
       "      <td>0.0</td>\n",
       "      <td>1.0</td>\n",
       "      <td>1.0</td>\n",
       "      <td>0.0</td>\n",
       "      <td>0.0</td>\n",
       "      <td>0.0</td>\n",
       "      <td>0.0</td>\n",
       "      <td>1.0</td>\n",
       "      <td>30.0</td>\n",
       "      <td>31.400</td>\n",
       "      <td>1.0</td>\n",
       "    </tr>\n",
       "    <tr>\n",
       "      <th>561</th>\n",
       "      <td>1.0</td>\n",
       "      <td>0.0</td>\n",
       "      <td>1.0</td>\n",
       "      <td>0.0</td>\n",
       "      <td>1.0</td>\n",
       "      <td>0.0</td>\n",
       "      <td>0.0</td>\n",
       "      <td>0.0</td>\n",
       "      <td>54.0</td>\n",
       "      <td>32.680</td>\n",
       "      <td>0.0</td>\n",
       "    </tr>\n",
       "  </tbody>\n",
       "</table>\n",
       "<p>1006 rows × 11 columns</p>\n",
       "</div>"
      ],
      "text/plain": [
       "      sex_female  sex_male  smoker_no  smoker_yes  region_northeast  \\\n",
       "1170         1.0       0.0        0.0         1.0               0.0   \n",
       "403          0.0       1.0        1.0         0.0               0.0   \n",
       "635          1.0       0.0        1.0         0.0               0.0   \n",
       "463          0.0       1.0        1.0         0.0               1.0   \n",
       "278          0.0       1.0        1.0         0.0               0.0   \n",
       "...          ...       ...        ...         ...               ...   \n",
       "534          0.0       1.0        1.0         0.0               0.0   \n",
       "370          1.0       0.0        1.0         0.0               0.0   \n",
       "149          0.0       1.0        1.0         0.0               0.0   \n",
       "619          0.0       1.0        1.0         0.0               0.0   \n",
       "561          1.0       0.0        1.0         0.0               1.0   \n",
       "\n",
       "      region_northwest  region_southeast  region_southwest   age     bmi  \\\n",
       "1170               0.0               0.0               1.0  43.0  26.700   \n",
       "403                1.0               0.0               0.0  49.0  32.300   \n",
       "635                1.0               0.0               0.0  19.0  24.510   \n",
       "463                0.0               0.0               0.0  56.0  25.935   \n",
       "278                0.0               1.0               0.0  59.0  31.790   \n",
       "...                ...               ...               ...   ...     ...   \n",
       "534                0.0               1.0               0.0  64.0  40.480   \n",
       "370                1.0               0.0               0.0  61.0  21.090   \n",
       "149                0.0               0.0               1.0  19.0  28.400   \n",
       "619                0.0               0.0               1.0  30.0  31.400   \n",
       "561                0.0               0.0               0.0  54.0  32.680   \n",
       "\n",
       "      children  \n",
       "1170       2.0  \n",
       "403        3.0  \n",
       "635        1.0  \n",
       "463        0.0  \n",
       "278        2.0  \n",
       "...        ...  \n",
       "534        0.0  \n",
       "370        0.0  \n",
       "149        1.0  \n",
       "619        1.0  \n",
       "561        0.0  \n",
       "\n",
       "[1006 rows x 11 columns]"
      ]
     },
     "execution_count": 280,
     "metadata": {},
     "output_type": "execute_result"
    }
   ],
   "source": [
    "X_train"
   ]
  },
  {
   "cell_type": "code",
   "execution_count": 281,
   "id": "b5a62f6e",
   "metadata": {},
   "outputs": [
    {
     "data": {
      "text/plain": [
       "(331, 11)"
      ]
     },
     "execution_count": 281,
     "metadata": {},
     "output_type": "execute_result"
    }
   ],
   "source": [
    "X_test.shape"
   ]
  },
  {
   "cell_type": "code",
   "execution_count": 282,
   "id": "18fd545a",
   "metadata": {},
   "outputs": [
    {
     "data": {
      "text/plain": [
       "1170    22478.60000\n",
       "403     10269.46000\n",
       "635      2709.11190\n",
       "463     11165.41765\n",
       "278     12928.79110\n",
       "           ...     \n",
       "534     13831.11520\n",
       "370     13415.03810\n",
       "149      1842.51900\n",
       "619      3659.34600\n",
       "561     10923.93320\n",
       "Name: charges, Length: 1006, dtype: float64"
      ]
     },
     "execution_count": 282,
     "metadata": {},
     "output_type": "execute_result"
    }
   ],
   "source": [
    "y_train"
   ]
  },
  {
   "cell_type": "markdown",
   "id": "8b638543",
   "metadata": {},
   "source": [
    "### `Feature scalling`"
   ]
  },
  {
   "cell_type": "code",
   "execution_count": 283,
   "id": "71a5a0d9",
   "metadata": {},
   "outputs": [],
   "source": [
    "from sklearn.preprocessing import StandardScaler"
   ]
  },
  {
   "cell_type": "code",
   "execution_count": 284,
   "id": "fb680d32",
   "metadata": {},
   "outputs": [],
   "source": [
    "sc = StandardScaler()"
   ]
  },
  {
   "cell_type": "code",
   "execution_count": 285,
   "id": "bc19e116",
   "metadata": {},
   "outputs": [],
   "source": [
    "X_train = sc.fit_transform(X_train)"
   ]
  },
  {
   "cell_type": "code",
   "execution_count": 286,
   "id": "9cf12777",
   "metadata": {},
   "outputs": [
    {
     "data": {
      "text/plain": [
       "array([[ 1.00798416, -1.00798416, -1.91809014, ...,  0.27407391,\n",
       "        -0.68645718,  0.76325822],\n",
       "       [-0.99207908,  0.99207908,  0.52135193, ...,  0.70376484,\n",
       "         0.2365457 ,  1.6051856 ],\n",
       "       [ 1.00798416, -1.00798416,  0.52135193, ..., -1.44468983,\n",
       "        -1.04741724, -0.07866916],\n",
       "       ...,\n",
       "       [-0.99207908,  0.99207908,  0.52135193, ..., -1.44468983,\n",
       "        -0.40625988, -0.07866916],\n",
       "       [-0.99207908,  0.99207908,  0.52135193, ..., -0.65692312,\n",
       "         0.08820595, -0.07866916],\n",
       "       [ 1.00798416, -1.00798416,  0.52135193, ...,  1.06184062,\n",
       "         0.29917804, -0.92059654]])"
      ]
     },
     "execution_count": 286,
     "metadata": {},
     "output_type": "execute_result"
    }
   ],
   "source": [
    "X_train"
   ]
  },
  {
   "cell_type": "code",
   "execution_count": 287,
   "id": "ff285e4e",
   "metadata": {},
   "outputs": [
    {
     "data": {
      "text/plain": [
       "array([[-0.99207908,  0.99207908,  0.52135193, ...,  1.41991639,\n",
       "        -0.8908364 , -0.07866916],\n",
       "       [ 1.00798416, -1.00798416,  0.52135193, ..., -1.22984436,\n",
       "        -0.33703466, -0.92059654],\n",
       "       [ 1.00798416, -1.00798416,  0.52135193, ...,  1.49153155,\n",
       "        -2.06519275, -0.92059654],\n",
       "       ...,\n",
       "       [ 1.00798416, -1.00798416,  0.52135193, ..., -1.44468983,\n",
       "         1.08208228, -0.92059654],\n",
       "       [ 1.00798416, -1.00798416,  0.52135193, ...,  1.70637702,\n",
       "         0.71452934, -0.07866916],\n",
       "       [-0.99207908,  0.99207908, -1.91809014, ...,  0.34568906,\n",
       "        -0.10958038,  0.76325822]])"
      ]
     },
     "execution_count": 287,
     "metadata": {},
     "output_type": "execute_result"
    }
   ],
   "source": [
    "X_test = sc.transform(X_test)\n",
    "X_test"
   ]
  },
  {
   "cell_type": "markdown",
   "id": "ad2eea26",
   "metadata": {},
   "source": [
    "### `Building ML Model`"
   ]
  },
  {
   "cell_type": "code",
   "execution_count": 289,
   "id": "8058b762",
   "metadata": {},
   "outputs": [],
   "source": [
    "from sklearn.linear_model import LinearRegression"
   ]
  },
  {
   "cell_type": "code",
   "execution_count": 290,
   "id": "2f4c1afb",
   "metadata": {},
   "outputs": [],
   "source": [
    "lr = LinearRegression()"
   ]
  },
  {
   "cell_type": "markdown",
   "id": "77e30431",
   "metadata": {},
   "source": [
    "### `Training The Mode`"
   ]
  },
  {
   "cell_type": "code",
   "execution_count": 291,
   "id": "fb8278a3",
   "metadata": {},
   "outputs": [
    {
     "data": {
      "text/html": [
       "<style>#sk-container-id-1 {color: black;}#sk-container-id-1 pre{padding: 0;}#sk-container-id-1 div.sk-toggleable {background-color: white;}#sk-container-id-1 label.sk-toggleable__label {cursor: pointer;display: block;width: 100%;margin-bottom: 0;padding: 0.3em;box-sizing: border-box;text-align: center;}#sk-container-id-1 label.sk-toggleable__label-arrow:before {content: \"▸\";float: left;margin-right: 0.25em;color: #696969;}#sk-container-id-1 label.sk-toggleable__label-arrow:hover:before {color: black;}#sk-container-id-1 div.sk-estimator:hover label.sk-toggleable__label-arrow:before {color: black;}#sk-container-id-1 div.sk-toggleable__content {max-height: 0;max-width: 0;overflow: hidden;text-align: left;background-color: #f0f8ff;}#sk-container-id-1 div.sk-toggleable__content pre {margin: 0.2em;color: black;border-radius: 0.25em;background-color: #f0f8ff;}#sk-container-id-1 input.sk-toggleable__control:checked~div.sk-toggleable__content {max-height: 200px;max-width: 100%;overflow: auto;}#sk-container-id-1 input.sk-toggleable__control:checked~label.sk-toggleable__label-arrow:before {content: \"▾\";}#sk-container-id-1 div.sk-estimator input.sk-toggleable__control:checked~label.sk-toggleable__label {background-color: #d4ebff;}#sk-container-id-1 div.sk-label input.sk-toggleable__control:checked~label.sk-toggleable__label {background-color: #d4ebff;}#sk-container-id-1 input.sk-hidden--visually {border: 0;clip: rect(1px 1px 1px 1px);clip: rect(1px, 1px, 1px, 1px);height: 1px;margin: -1px;overflow: hidden;padding: 0;position: absolute;width: 1px;}#sk-container-id-1 div.sk-estimator {font-family: monospace;background-color: #f0f8ff;border: 1px dotted black;border-radius: 0.25em;box-sizing: border-box;margin-bottom: 0.5em;}#sk-container-id-1 div.sk-estimator:hover {background-color: #d4ebff;}#sk-container-id-1 div.sk-parallel-item::after {content: \"\";width: 100%;border-bottom: 1px solid gray;flex-grow: 1;}#sk-container-id-1 div.sk-label:hover label.sk-toggleable__label {background-color: #d4ebff;}#sk-container-id-1 div.sk-serial::before {content: \"\";position: absolute;border-left: 1px solid gray;box-sizing: border-box;top: 0;bottom: 0;left: 50%;z-index: 0;}#sk-container-id-1 div.sk-serial {display: flex;flex-direction: column;align-items: center;background-color: white;padding-right: 0.2em;padding-left: 0.2em;position: relative;}#sk-container-id-1 div.sk-item {position: relative;z-index: 1;}#sk-container-id-1 div.sk-parallel {display: flex;align-items: stretch;justify-content: center;background-color: white;position: relative;}#sk-container-id-1 div.sk-item::before, #sk-container-id-1 div.sk-parallel-item::before {content: \"\";position: absolute;border-left: 1px solid gray;box-sizing: border-box;top: 0;bottom: 0;left: 50%;z-index: -1;}#sk-container-id-1 div.sk-parallel-item {display: flex;flex-direction: column;z-index: 1;position: relative;background-color: white;}#sk-container-id-1 div.sk-parallel-item:first-child::after {align-self: flex-end;width: 50%;}#sk-container-id-1 div.sk-parallel-item:last-child::after {align-self: flex-start;width: 50%;}#sk-container-id-1 div.sk-parallel-item:only-child::after {width: 0;}#sk-container-id-1 div.sk-dashed-wrapped {border: 1px dashed gray;margin: 0 0.4em 0.5em 0.4em;box-sizing: border-box;padding-bottom: 0.4em;background-color: white;}#sk-container-id-1 div.sk-label label {font-family: monospace;font-weight: bold;display: inline-block;line-height: 1.2em;}#sk-container-id-1 div.sk-label-container {text-align: center;}#sk-container-id-1 div.sk-container {/* jupyter's `normalize.less` sets `[hidden] { display: none; }` but bootstrap.min.css set `[hidden] { display: none !important; }` so we also need the `!important` here to be able to override the default hidden behavior on the sphinx rendered scikit-learn.org. See: https://github.com/scikit-learn/scikit-learn/issues/21755 */display: inline-block !important;position: relative;}#sk-container-id-1 div.sk-text-repr-fallback {display: none;}</style><div id=\"sk-container-id-1\" class=\"sk-top-container\"><div class=\"sk-text-repr-fallback\"><pre>LinearRegression()</pre><b>In a Jupyter environment, please rerun this cell to show the HTML representation or trust the notebook. <br />On GitHub, the HTML representation is unable to render, please try loading this page with nbviewer.org.</b></div><div class=\"sk-container\" hidden><div class=\"sk-item\"><div class=\"sk-estimator sk-toggleable\"><input class=\"sk-toggleable__control sk-hidden--visually\" id=\"sk-estimator-id-1\" type=\"checkbox\" checked><label for=\"sk-estimator-id-1\" class=\"sk-toggleable__label sk-toggleable__label-arrow\">LinearRegression</label><div class=\"sk-toggleable__content\"><pre>LinearRegression()</pre></div></div></div></div></div>"
      ],
      "text/plain": [
       "LinearRegression()"
      ]
     },
     "execution_count": 291,
     "metadata": {},
     "output_type": "execute_result"
    }
   ],
   "source": [
    "lr.fit(X_train, y_train)"
   ]
  },
  {
   "cell_type": "markdown",
   "id": "aa34232c",
   "metadata": {},
   "source": [
    "### `prediction / Test`"
   ]
  },
  {
   "cell_type": "code",
   "execution_count": 292,
   "id": "a1265222",
   "metadata": {},
   "outputs": [
    {
     "data": {
      "text/plain": [
       "array([[-0.99207908,  0.99207908,  0.52135193, ...,  1.41991639,\n",
       "        -0.8908364 , -0.07866916],\n",
       "       [ 1.00798416, -1.00798416,  0.52135193, ..., -1.22984436,\n",
       "        -0.33703466, -0.92059654],\n",
       "       [ 1.00798416, -1.00798416,  0.52135193, ...,  1.49153155,\n",
       "        -2.06519275, -0.92059654],\n",
       "       ...,\n",
       "       [ 1.00798416, -1.00798416,  0.52135193, ..., -1.44468983,\n",
       "         1.08208228, -0.92059654],\n",
       "       [ 1.00798416, -1.00798416,  0.52135193, ...,  1.70637702,\n",
       "         0.71452934, -0.07866916],\n",
       "       [-0.99207908,  0.99207908, -1.91809014, ...,  0.34568906,\n",
       "        -0.10958038,  0.76325822]])"
      ]
     },
     "execution_count": 292,
     "metadata": {},
     "output_type": "execute_result"
    }
   ],
   "source": [
    "X_test"
   ]
  },
  {
   "cell_type": "code",
   "execution_count": 293,
   "id": "ceb142d9",
   "metadata": {},
   "outputs": [],
   "source": [
    "y_pred = lr.predict(X_test)"
   ]
  },
  {
   "cell_type": "code",
   "execution_count": 297,
   "id": "cb332530",
   "metadata": {},
   "outputs": [
    {
     "data": {
      "text/plain": [
       "array([ 1.22496914e+04,  2.20169138e+03,  9.56169138e+03,  1.39776914e+04,\n",
       "        2.51136914e+04,  7.96169138e+03,  4.09691383e+02,  1.12896914e+04,\n",
       "        2.52169138e+03,  2.74816914e+04,  9.88169138e+03,  1.39776914e+04,\n",
       "        4.24969138e+03,  1.29536914e+04,  1.03936914e+04,  7.44969138e+03,\n",
       "        3.35369138e+03,  1.10336914e+04,  1.09056914e+04,  1.14176914e+04,\n",
       "        8.28169138e+03,  5.14569138e+03,  9.85691383e+02,  1.43369138e+03,\n",
       "        5.97769138e+03,  8.53769138e+03,  1.68969138e+03,  3.59296914e+04,\n",
       "        1.19296914e+04, -2.02230862e+03,  1.13536914e+04,  3.06816914e+04,\n",
       "       -1.57430862e+03,  1.13536914e+04,  8.92169138e+03,  8.47369138e+03,\n",
       "        7.06569138e+03,  1.41696914e+04,  1.10336914e+04,  2.71616914e+04,\n",
       "        5.27369138e+03,  3.61216914e+04,  1.58976914e+04,  7.83369138e+03,\n",
       "       -4.86308617e+02,  2.92736914e+04,  1.10976914e+04,  1.58976914e+04,\n",
       "        7.93691383e+02,  1.02016914e+04,  9.30569138e+03,  1.03936914e+04,\n",
       "        9.68969138e+03,  9.68969138e+03,  1.27616914e+04,  9.30569138e+03,\n",
       "        1.29536914e+04,  1.58976914e+04,  2.91456914e+04,  3.15776914e+04,\n",
       "        1.00096914e+04,  2.84169138e+03,  6.01691383e+02,  6.36169138e+03,\n",
       "       -2.30308617e+02, -1.66308617e+02,  1.23136914e+04,  2.58569138e+03,\n",
       "        1.40416914e+04,  7.29691383e+02,  6.93769138e+03,  1.15456914e+04,\n",
       "        1.18656914e+04,  1.15456914e+04,  7.25769138e+03,  5.97769138e+03,\n",
       "        1.02656914e+04,  1.30569138e+03,  5.14569138e+03,  3.09769138e+03,\n",
       "        1.00096914e+04,  1.28256914e+04,  1.20576914e+04,  2.20169138e+03,\n",
       "        1.17376914e+04,  2.83776914e+04,  3.59936914e+04,  1.05216914e+04,\n",
       "        2.45769138e+03,  7.57769138e+03,  3.22569138e+03,  1.07776914e+04,\n",
       "        1.07776914e+04,  1.18016914e+04,  1.24416914e+04,  8.34569138e+03,\n",
       "        2.82496914e+04,  1.17376914e+04,  5.40169138e+03,  6.68169138e+03,\n",
       "        6.01691383e+02,  1.18016914e+04,  1.57696914e+04,  1.02016914e+04,\n",
       "        2.53056914e+04,  1.55136914e+04,  6.42569138e+03,  5.78569138e+03,\n",
       "        2.86336914e+04,  4.18569138e+03,  1.21856914e+04,  6.93769138e+03,\n",
       "        9.11369138e+03,  1.19296914e+04,  1.46176914e+04,  8.08969138e+03,\n",
       "       -4.22308617e+02,  1.14176914e+04,  2.39369138e+03,  3.08096914e+04,\n",
       "        4.63369138e+03,  3.36256914e+04,  4.31369138e+03,  1.25696914e+04,\n",
       "        1.64096914e+04,  2.79296914e+04,  5.91369138e+03,  7.06569138e+03,\n",
       "        7.57769138e+03,  4.95369138e+03,  5.65769138e+03,  3.96416914e+04,\n",
       "        8.34569138e+03,  2.96969138e+03,  5.37691383e+02,  2.35776914e+04,\n",
       "        1.07776914e+04,  1.30569138e+03,  5.78569138e+03,  8.85769138e+03,\n",
       "        1.03936914e+04,  1.24169138e+03,  4.19456914e+04,  1.20576914e+04,\n",
       "       -2.79030862e+03,  1.42336914e+04,  1.06496914e+04,  1.10976914e+04,\n",
       "        2.66496914e+04,  1.14176914e+04,  1.75616914e+04,  3.27296914e+04,\n",
       "        7.12969138e+03,  1.07776914e+04,  2.88896914e+04,  5.20969138e+03,\n",
       "        1.44896914e+04,  8.60169138e+03,  1.64736914e+04,  3.04256914e+04,\n",
       "        1.34016914e+04,  4.56969138e+03,  4.05769138e+03,  1.47456914e+04,\n",
       "        1.10976914e+04,  1.16736914e+04,  3.48169138e+03,  1.49376914e+04,\n",
       "        2.20169138e+03,  3.80416914e+04,  3.26656914e+04,  1.25696914e+04,\n",
       "        3.10656914e+04,  3.78496914e+04,  2.76096914e+04,  3.68896914e+04,\n",
       "        9.62569138e+03,  1.22496914e+04,  1.68969138e+03,  1.06496914e+04,\n",
       "        1.21856914e+04,  4.09216914e+04,  8.79369138e+03,  2.07369138e+03,\n",
       "        1.51296914e+04,  6.80969138e+03,  1.39776914e+04,  1.03936914e+04,\n",
       "        3.05536914e+04,  8.15369138e+03,  7.38569138e+03,  8.15369138e+03,\n",
       "        5.46569138e+03,  1.83936914e+04,  9.11369138e+03,  9.49769138e+03,\n",
       "        1.16736914e+04,  1.66656914e+04,  3.96416914e+04,  3.60969138e+03,\n",
       "        1.17769138e+03,  3.56736914e+04,  1.47456914e+04,  6.16969138e+03,\n",
       "        1.16736914e+04,  2.88256914e+04,  1.19936914e+04, -2.66230862e+03,\n",
       "        1.58336914e+04, -1.02308617e+02,  2.64969138e+03,  2.95296914e+04,\n",
       "        1.75369138e+03,  1.43369138e+03,  1.17376914e+04,  2.88256914e+04,\n",
       "        1.29536914e+04, -6.14308617e+02,  9.62569138e+03,  1.14176914e+04,\n",
       "        2.75456914e+04,  1.14176914e+04,  2.94016914e+04, -2.30308617e+02,\n",
       "        2.00969138e+03,  8.60169138e+03,  1.86496914e+04,  3.29216914e+04,\n",
       "        4.24969138e+03,  8.08969138e+03,  3.57376914e+04,  1.25056914e+04,\n",
       "        1.04576914e+04,  9.62569138e+03,  1.38496914e+04,  6.80969138e+03,\n",
       "        5.91369138e+03,  2.71369138e+03,  3.80169138e+03,  1.73696914e+04,\n",
       "        3.58016914e+04,  3.22816914e+04,  6.80969138e+03,  3.20896914e+04,\n",
       "        8.28169138e+03,  1.08416914e+04,  7.51369138e+03,  5.40169138e+03,\n",
       "        1.11616914e+04,  3.98976914e+04,  1.30816914e+04,  1.42336914e+04,\n",
       "        9.43369138e+03,  1.50016914e+04,  1.55136914e+04,  5.40169138e+03,\n",
       "        5.52969138e+03,  1.51296914e+04,  1.09696914e+04,  2.90569138e+03,\n",
       "        3.47136914e+04,  8.60169138e+03,  2.56913827e+01,  1.12896914e+04,\n",
       "        3.06816914e+04,  1.41696914e+04,  1.47456914e+04,  3.42656914e+04,\n",
       "        1.94569138e+03,  3.27296914e+04,  1.25696914e+04,  5.27369138e+03,\n",
       "        1.28256914e+04,  7.19369138e+03,  1.14176914e+04, -6.14308617e+02,\n",
       "        2.32969138e+03,  8.34569138e+03,  2.84169138e+03,  3.82336914e+04,\n",
       "        1.94569138e+03,  1.32096914e+04,  1.02016914e+04,  1.32096914e+04,\n",
       "        3.65696914e+04,  4.37769138e+03,  1.15456914e+04,  3.36256914e+04,\n",
       "        5.08169138e+03,  5.33769138e+03,  7.06569138e+03,  5.91369138e+03,\n",
       "        5.91369138e+03,  1.52576914e+04,  9.68969138e+03,  3.82976914e+04,\n",
       "        2.77376914e+04,  1.09056914e+04,  1.43369138e+03,  1.94569138e+03,\n",
       "        9.17769138e+03,  1.36576914e+04,  6.87369138e+03,  8.85769138e+03,\n",
       "        3.09769138e+03,  2.58569138e+03,  1.30569138e+03,  1.50016914e+04,\n",
       "        1.16736914e+04, -3.58308617e+02,  6.87369138e+03,  1.55776914e+04,\n",
       "        9.04969138e+03,  2.83776914e+04,  1.24416914e+04,  1.10976914e+04,\n",
       "        5.84969138e+03,  9.75369138e+03,  1.18656914e+04,  1.52576914e+04,\n",
       "        1.26976914e+04,  1.03936914e+04,  7.44969138e+03,  3.50336914e+04,\n",
       "        7.93691383e+02,  3.35616914e+04,  3.11296914e+04,  7.70569138e+03,\n",
       "        5.14569138e+03,  1.60256914e+04,  3.39456914e+04])"
      ]
     },
     "execution_count": 297,
     "metadata": {},
     "output_type": "execute_result"
    }
   ],
   "source": [
    "y_pred"
   ]
  },
  {
   "cell_type": "markdown",
   "id": "8d39386d",
   "metadata": {},
   "source": [
    "### `Evalution`"
   ]
  },
  {
   "cell_type": "code",
   "execution_count": 294,
   "id": "ae2fce70",
   "metadata": {},
   "outputs": [],
   "source": [
    "from sklearn.metrics import mean_absolute_error"
   ]
  },
  {
   "cell_type": "code",
   "execution_count": 296,
   "id": "7344695d",
   "metadata": {},
   "outputs": [
    {
     "name": "stdout",
     "output_type": "stream",
     "text": [
      "Mean Absolute Error: 4182.967661647069\n"
     ]
    }
   ],
   "source": [
    "mae = mean_absolute_error(y_test, y_pred)\n",
    "print(\"Mean Absolute Error:\", mae)"
   ]
  },
  {
   "cell_type": "code",
   "execution_count": 299,
   "id": "b9beb1a4",
   "metadata": {},
   "outputs": [],
   "source": [
    "output_df = pd.DataFrame({'Actual': y_test})"
   ]
  },
  {
   "cell_type": "code",
   "execution_count": 300,
   "id": "ffeec368",
   "metadata": {},
   "outputs": [],
   "source": [
    "output_df['Linear Regression Predictions'] = y_pred"
   ]
  },
  {
   "cell_type": "code",
   "execution_count": 301,
   "id": "e977ceb7",
   "metadata": {},
   "outputs": [
    {
     "data": {
      "text/html": [
       "<div>\n",
       "<style scoped>\n",
       "    .dataframe tbody tr th:only-of-type {\n",
       "        vertical-align: middle;\n",
       "    }\n",
       "\n",
       "    .dataframe tbody tr th {\n",
       "        vertical-align: top;\n",
       "    }\n",
       "\n",
       "    .dataframe thead th {\n",
       "        text-align: right;\n",
       "    }\n",
       "</style>\n",
       "<table border=\"1\" class=\"dataframe\">\n",
       "  <thead>\n",
       "    <tr style=\"text-align: right;\">\n",
       "      <th></th>\n",
       "      <th>Actual</th>\n",
       "      <th>Linear Regression Predictions</th>\n",
       "    </tr>\n",
       "  </thead>\n",
       "  <tbody>\n",
       "    <tr>\n",
       "      <th>580</th>\n",
       "      <td>12913.99240</td>\n",
       "      <td>12249.691383</td>\n",
       "    </tr>\n",
       "    <tr>\n",
       "      <th>293</th>\n",
       "      <td>2156.75180</td>\n",
       "      <td>2201.691383</td>\n",
       "    </tr>\n",
       "    <tr>\n",
       "      <th>1073</th>\n",
       "      <td>13204.28565</td>\n",
       "      <td>9561.691383</td>\n",
       "    </tr>\n",
       "    <tr>\n",
       "      <th>208</th>\n",
       "      <td>13880.94900</td>\n",
       "      <td>13977.691383</td>\n",
       "    </tr>\n",
       "    <tr>\n",
       "      <th>157</th>\n",
       "      <td>15518.18025</td>\n",
       "      <td>25113.691383</td>\n",
       "    </tr>\n",
       "    <tr>\n",
       "      <th>...</th>\n",
       "      <td>...</td>\n",
       "      <td>...</td>\n",
       "    </tr>\n",
       "    <tr>\n",
       "      <th>637</th>\n",
       "      <td>20149.32290</td>\n",
       "      <td>31129.691383</td>\n",
       "    </tr>\n",
       "    <tr>\n",
       "      <th>704</th>\n",
       "      <td>5375.03800</td>\n",
       "      <td>7705.691383</td>\n",
       "    </tr>\n",
       "    <tr>\n",
       "      <th>391</th>\n",
       "      <td>2138.07070</td>\n",
       "      <td>5145.691383</td>\n",
       "    </tr>\n",
       "    <tr>\n",
       "      <th>961</th>\n",
       "      <td>14474.67500</td>\n",
       "      <td>16025.691383</td>\n",
       "    </tr>\n",
       "    <tr>\n",
       "      <th>952</th>\n",
       "      <td>38998.54600</td>\n",
       "      <td>33945.691383</td>\n",
       "    </tr>\n",
       "  </tbody>\n",
       "</table>\n",
       "<p>331 rows × 2 columns</p>\n",
       "</div>"
      ],
      "text/plain": [
       "           Actual  Linear Regression Predictions\n",
       "580   12913.99240                   12249.691383\n",
       "293    2156.75180                    2201.691383\n",
       "1073  13204.28565                    9561.691383\n",
       "208   13880.94900                   13977.691383\n",
       "157   15518.18025                   25113.691383\n",
       "...           ...                            ...\n",
       "637   20149.32290                   31129.691383\n",
       "704    5375.03800                    7705.691383\n",
       "391    2138.07070                    5145.691383\n",
       "961   14474.67500                   16025.691383\n",
       "952   38998.54600                   33945.691383\n",
       "\n",
       "[331 rows x 2 columns]"
      ]
     },
     "execution_count": 301,
     "metadata": {},
     "output_type": "execute_result"
    }
   ],
   "source": [
    "output_df"
   ]
  },
  {
   "cell_type": "markdown",
   "id": "41ac41f2",
   "metadata": {},
   "source": [
    "#### Conclusion:\n",
    "`We trained several regression models on the training data and evaluated their performance on the test set using the Mean Absolute Error (MAE) metric. The models included Linear Regression`"
   ]
  },
  {
   "cell_type": "markdown",
   "id": "eaaeb712",
   "metadata": {},
   "source": [
    "### `Display a plot which shows all the algorithms applied along with the scores achieved`"
   ]
  },
  {
   "cell_type": "code",
   "execution_count": 305,
   "id": "0ff6d63f",
   "metadata": {},
   "outputs": [
    {
     "data": {
      "image/png": "[encoded data removed]",
      "text/plain": [
       "<Figure size 800x300 with 1 Axes>"
      ]
     },
     "metadata": {},
     "output_type": "display_data"
    }
   ],
   "source": [
    "fig, ax = plt.subplots(figsize=(8,3))\n",
    "\n",
    "sns.histplot(output_df['Actual'], color='green', alpha=0.5, label=\"actual\")\n",
    "sns.histplot(output_df['Linear Regression Predictions'], color='red', alpha=0.5, label=\"prediction\")\n",
    "\n",
    "plt.show()"
   ]
  },
  {
   "cell_type": "markdown",
   "id": "5604a777",
   "metadata": {},
   "source": [
    "## `Conclusion:`\n",
    "#### In conclusion, the predictive model developed in this project, particularly the (Best Performing Model), offers a valuable tool for estimating medical costs. This information can empower individuals and insurance providers to make informed decisions and allocate resources efficiently."
   ]
  },
  {
   "cell_type": "markdown",
   "id": "5f1ff80a",
   "metadata": {},
   "source": [
    "^^^^^^^^^^^^^^^^^^^^^^^^^^^^^^^^^^^^^^^^^^^^^^^^^^^^^^^^^^^^^^^^^^^^^^^^^^^^^^^^^^^^^^^^^^^^^^^^^^^^^^^^^^^^^^^^^^^^^^^^^^^^^^^^^^^^^^^^^^^"
   ]
  },
  {
   "cell_type": "markdown",
   "id": "29afdb4e",
   "metadata": {},
   "source": [
    "# *********************************** `END`*************************************************"
   ]
  },
  {
   "cell_type": "code",
   "execution_count": null,
   "id": "17350daf",
   "metadata": {},
   "outputs": [],
   "source": []
  }
 ],
 "metadata": {
  "kernelspec": {
   "display_name": "Python 3 (ipykernel)",
   "language": "python",
   "name": "python3"
  },
  "language_info": {
   "codemirror_mode": {
    "name": "ipython",
    "version": 3
   },
   "file_extension": ".py",
   "mimetype": "text/x-python",
   "name": "python",
   "nbconvert_exporter": "python",
   "pygments_lexer": "ipython3",
   "version": "3.11.4"
  }
 },
 "nbformat": 4,
 "nbformat_minor": 5
}
